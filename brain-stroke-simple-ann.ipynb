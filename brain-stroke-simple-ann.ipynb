{
 "cells": [
  {
   "cell_type": "code",
   "execution_count": 1,
   "id": "30f330ba",
   "metadata": {
    "_cell_guid": "b1076dfc-b9ad-4769-8c92-a6c4dae69d19",
    "_uuid": "8f2839f25d086af736a60e9eeb907d3b93b6e0e5",
    "execution": {
     "iopub.execute_input": "2024-11-18T16:17:23.506523Z",
     "iopub.status.busy": "2024-11-18T16:17:23.505983Z",
     "iopub.status.idle": "2024-11-18T16:17:24.696610Z",
     "shell.execute_reply": "2024-11-18T16:17:24.695172Z"
    },
    "papermill": {
     "duration": 1.20399,
     "end_time": "2024-11-18T16:17:24.699530",
     "exception": false,
     "start_time": "2024-11-18T16:17:23.495540",
     "status": "completed"
    },
    "tags": []
   },
   "outputs": [
    {
     "name": "stdout",
     "output_type": "stream",
     "text": [
      "/kaggle/input/full-filled-brain-stroke-dataset/full_data.csv\n",
      "/kaggle/input/full-filled-brain-stroke-dataset/full_filled_stroke_data (1).csv\n"
     ]
    }
   ],
   "source": [
    "# This Python 3 environment comes with many helpful analytics libraries installed\n",
    "# It is defined by the kaggle/python Docker image: https://github.com/kaggle/docker-python\n",
    "# For example, here's several helpful packages to load\n",
    "\n",
    "import numpy as np # linear algebra\n",
    "import pandas as pd # data processing, CSV file I/O (e.g. pd.read_csv)\n",
    "\n",
    "# Input data files are available in the read-only \"../input/\" directory\n",
    "# For example, running this (by clicking run or pressing Shift+Enter) will list all files under the input directory\n",
    "\n",
    "import os\n",
    "for dirname, _, filenames in os.walk('/kaggle/input'):\n",
    "    for filename in filenames:\n",
    "        print(os.path.join(dirname, filename))\n",
    "\n",
    "# You can write up to 20GB to the current directory (/kaggle/working/) that gets preserved as output when you create a version using \"Save & Run All\" \n",
    "# You can also write temporary files to /kaggle/temp/, but they won't be saved outside of the current session"
   ]
  },
  {
   "cell_type": "code",
   "execution_count": 2,
   "id": "81b95cb7",
   "metadata": {
    "execution": {
     "iopub.execute_input": "2024-11-18T16:17:24.718263Z",
     "iopub.status.busy": "2024-11-18T16:17:24.717618Z",
     "iopub.status.idle": "2024-11-18T16:17:48.631588Z",
     "shell.execute_reply": "2024-11-18T16:17:48.630343Z"
    },
    "papermill": {
     "duration": 23.926999,
     "end_time": "2024-11-18T16:17:48.634752",
     "exception": false,
     "start_time": "2024-11-18T16:17:24.707753",
     "status": "completed"
    },
    "tags": []
   },
   "outputs": [
    {
     "data": {
      "text/html": [
       "        <script type=\"text/javascript\">\n",
       "        window.PlotlyConfig = {MathJaxConfig: 'local'};\n",
       "        if (window.MathJax && window.MathJax.Hub && window.MathJax.Hub.Config) {window.MathJax.Hub.Config({SVG: {font: \"STIX-Web\"}});}\n",
       "        if (typeof require !== 'undefined') {\n",
       "        require.undef(\"plotly\");\n",
       "        requirejs.config({\n",
       "            paths: {\n",
       "                'plotly': ['https://cdn.plot.ly/plotly-2.32.0.min']\n",
       "            }\n",
       "        });\n",
       "        require(['plotly'], function(Plotly) {\n",
       "            window._Plotly = Plotly;\n",
       "        });\n",
       "        }\n",
       "        </script>\n",
       "        "
      ]
     },
     "metadata": {},
     "output_type": "display_data"
    }
   ],
   "source": [
    "#import potrebnih biblioteka\n",
    "\n",
    "import pandas as pd\n",
    "import numpy as np\n",
    "import matplotlib.pyplot as plt\n",
    "import seaborn as sns\n",
    "%matplotlib inline\n",
    "\n",
    "from sklearn.preprocessing import StandardScaler\n",
    "\n",
    "import warnings\n",
    "warnings.filterwarnings('ignore')\n",
    "import cufflinks as cf\n",
    "cf.go_offline()\n",
    "cf.set_config_file(offline=False, world_readable=True)\n",
    "from tensorflow.keras.layers import BatchNormalization\n",
    "from keras.models import Model, load_model, Sequential\n",
    "from tensorflow.keras.models import Model\n",
    "from keras.layers import Input, LSTM, RepeatVector, TimeDistributed, Bidirectional, GRU, Dense,Dropout\n",
    "from tensorflow.keras.optimizers import Adamax"
   ]
  },
  {
   "cell_type": "code",
   "execution_count": 3,
   "id": "78ed10f1",
   "metadata": {
    "execution": {
     "iopub.execute_input": "2024-11-18T16:17:48.653291Z",
     "iopub.status.busy": "2024-11-18T16:17:48.652399Z",
     "iopub.status.idle": "2024-11-18T16:17:48.682839Z",
     "shell.execute_reply": "2024-11-18T16:17:48.681355Z"
    },
    "papermill": {
     "duration": 0.042874,
     "end_time": "2024-11-18T16:17:48.685866",
     "exception": false,
     "start_time": "2024-11-18T16:17:48.642992",
     "status": "completed"
    },
    "tags": []
   },
   "outputs": [],
   "source": [
    "#Učitavanje file-a\n",
    "data=pd.read_csv('/kaggle/input/full-filled-brain-stroke-dataset/full_data.csv')"
   ]
  },
  {
   "cell_type": "code",
   "execution_count": 4,
   "id": "f7e550d3",
   "metadata": {
    "execution": {
     "iopub.execute_input": "2024-11-18T16:17:48.704215Z",
     "iopub.status.busy": "2024-11-18T16:17:48.703720Z",
     "iopub.status.idle": "2024-11-18T16:17:48.747261Z",
     "shell.execute_reply": "2024-11-18T16:17:48.745969Z"
    },
    "papermill": {
     "duration": 0.056534,
     "end_time": "2024-11-18T16:17:48.750471",
     "exception": false,
     "start_time": "2024-11-18T16:17:48.693937",
     "status": "completed"
    },
    "tags": []
   },
   "outputs": [
    {
     "data": {
      "text/html": [
       "<div>\n",
       "<style scoped>\n",
       "    .dataframe tbody tr th:only-of-type {\n",
       "        vertical-align: middle;\n",
       "    }\n",
       "\n",
       "    .dataframe tbody tr th {\n",
       "        vertical-align: top;\n",
       "    }\n",
       "\n",
       "    .dataframe thead th {\n",
       "        text-align: right;\n",
       "    }\n",
       "</style>\n",
       "<table border=\"1\" class=\"dataframe\">\n",
       "  <thead>\n",
       "    <tr style=\"text-align: right;\">\n",
       "      <th></th>\n",
       "      <th>gender</th>\n",
       "      <th>age</th>\n",
       "      <th>hypertension</th>\n",
       "      <th>heart_disease</th>\n",
       "      <th>ever_married</th>\n",
       "      <th>work_type</th>\n",
       "      <th>Residence_type</th>\n",
       "      <th>avg_glucose_level</th>\n",
       "      <th>bmi</th>\n",
       "      <th>smoking_status</th>\n",
       "      <th>stroke</th>\n",
       "    </tr>\n",
       "  </thead>\n",
       "  <tbody>\n",
       "    <tr>\n",
       "      <th>0</th>\n",
       "      <td>Male</td>\n",
       "      <td>67.0</td>\n",
       "      <td>0</td>\n",
       "      <td>1</td>\n",
       "      <td>Yes</td>\n",
       "      <td>Private</td>\n",
       "      <td>Urban</td>\n",
       "      <td>228.69</td>\n",
       "      <td>36.6</td>\n",
       "      <td>formerly smoked</td>\n",
       "      <td>1</td>\n",
       "    </tr>\n",
       "    <tr>\n",
       "      <th>1</th>\n",
       "      <td>Male</td>\n",
       "      <td>80.0</td>\n",
       "      <td>0</td>\n",
       "      <td>1</td>\n",
       "      <td>Yes</td>\n",
       "      <td>Private</td>\n",
       "      <td>Rural</td>\n",
       "      <td>105.92</td>\n",
       "      <td>32.5</td>\n",
       "      <td>never smoked</td>\n",
       "      <td>1</td>\n",
       "    </tr>\n",
       "    <tr>\n",
       "      <th>2</th>\n",
       "      <td>Female</td>\n",
       "      <td>49.0</td>\n",
       "      <td>0</td>\n",
       "      <td>0</td>\n",
       "      <td>Yes</td>\n",
       "      <td>Private</td>\n",
       "      <td>Urban</td>\n",
       "      <td>171.23</td>\n",
       "      <td>34.4</td>\n",
       "      <td>smokes</td>\n",
       "      <td>1</td>\n",
       "    </tr>\n",
       "    <tr>\n",
       "      <th>3</th>\n",
       "      <td>Female</td>\n",
       "      <td>79.0</td>\n",
       "      <td>1</td>\n",
       "      <td>0</td>\n",
       "      <td>Yes</td>\n",
       "      <td>Self-employed</td>\n",
       "      <td>Rural</td>\n",
       "      <td>174.12</td>\n",
       "      <td>24.0</td>\n",
       "      <td>never smoked</td>\n",
       "      <td>1</td>\n",
       "    </tr>\n",
       "    <tr>\n",
       "      <th>4</th>\n",
       "      <td>Male</td>\n",
       "      <td>81.0</td>\n",
       "      <td>0</td>\n",
       "      <td>0</td>\n",
       "      <td>Yes</td>\n",
       "      <td>Private</td>\n",
       "      <td>Urban</td>\n",
       "      <td>186.21</td>\n",
       "      <td>29.0</td>\n",
       "      <td>formerly smoked</td>\n",
       "      <td>1</td>\n",
       "    </tr>\n",
       "    <tr>\n",
       "      <th>...</th>\n",
       "      <td>...</td>\n",
       "      <td>...</td>\n",
       "      <td>...</td>\n",
       "      <td>...</td>\n",
       "      <td>...</td>\n",
       "      <td>...</td>\n",
       "      <td>...</td>\n",
       "      <td>...</td>\n",
       "      <td>...</td>\n",
       "      <td>...</td>\n",
       "      <td>...</td>\n",
       "    </tr>\n",
       "    <tr>\n",
       "      <th>4976</th>\n",
       "      <td>Male</td>\n",
       "      <td>41.0</td>\n",
       "      <td>0</td>\n",
       "      <td>0</td>\n",
       "      <td>No</td>\n",
       "      <td>Private</td>\n",
       "      <td>Rural</td>\n",
       "      <td>70.15</td>\n",
       "      <td>29.8</td>\n",
       "      <td>formerly smoked</td>\n",
       "      <td>0</td>\n",
       "    </tr>\n",
       "    <tr>\n",
       "      <th>4977</th>\n",
       "      <td>Male</td>\n",
       "      <td>40.0</td>\n",
       "      <td>0</td>\n",
       "      <td>0</td>\n",
       "      <td>Yes</td>\n",
       "      <td>Private</td>\n",
       "      <td>Urban</td>\n",
       "      <td>191.15</td>\n",
       "      <td>31.1</td>\n",
       "      <td>smokes</td>\n",
       "      <td>0</td>\n",
       "    </tr>\n",
       "    <tr>\n",
       "      <th>4978</th>\n",
       "      <td>Female</td>\n",
       "      <td>45.0</td>\n",
       "      <td>1</td>\n",
       "      <td>0</td>\n",
       "      <td>Yes</td>\n",
       "      <td>Govt_job</td>\n",
       "      <td>Rural</td>\n",
       "      <td>95.02</td>\n",
       "      <td>31.8</td>\n",
       "      <td>smokes</td>\n",
       "      <td>0</td>\n",
       "    </tr>\n",
       "    <tr>\n",
       "      <th>4979</th>\n",
       "      <td>Male</td>\n",
       "      <td>40.0</td>\n",
       "      <td>0</td>\n",
       "      <td>0</td>\n",
       "      <td>Yes</td>\n",
       "      <td>Private</td>\n",
       "      <td>Rural</td>\n",
       "      <td>83.94</td>\n",
       "      <td>30.0</td>\n",
       "      <td>smokes</td>\n",
       "      <td>0</td>\n",
       "    </tr>\n",
       "    <tr>\n",
       "      <th>4980</th>\n",
       "      <td>Female</td>\n",
       "      <td>80.0</td>\n",
       "      <td>1</td>\n",
       "      <td>0</td>\n",
       "      <td>Yes</td>\n",
       "      <td>Private</td>\n",
       "      <td>Urban</td>\n",
       "      <td>83.75</td>\n",
       "      <td>29.1</td>\n",
       "      <td>never smoked</td>\n",
       "      <td>0</td>\n",
       "    </tr>\n",
       "  </tbody>\n",
       "</table>\n",
       "<p>4981 rows × 11 columns</p>\n",
       "</div>"
      ],
      "text/plain": [
       "      gender   age  hypertension  heart_disease ever_married      work_type  \\\n",
       "0       Male  67.0             0              1          Yes        Private   \n",
       "1       Male  80.0             0              1          Yes        Private   \n",
       "2     Female  49.0             0              0          Yes        Private   \n",
       "3     Female  79.0             1              0          Yes  Self-employed   \n",
       "4       Male  81.0             0              0          Yes        Private   \n",
       "...      ...   ...           ...            ...          ...            ...   \n",
       "4976    Male  41.0             0              0           No        Private   \n",
       "4977    Male  40.0             0              0          Yes        Private   \n",
       "4978  Female  45.0             1              0          Yes       Govt_job   \n",
       "4979    Male  40.0             0              0          Yes        Private   \n",
       "4980  Female  80.0             1              0          Yes        Private   \n",
       "\n",
       "     Residence_type  avg_glucose_level   bmi   smoking_status  stroke  \n",
       "0             Urban             228.69  36.6  formerly smoked       1  \n",
       "1             Rural             105.92  32.5     never smoked       1  \n",
       "2             Urban             171.23  34.4           smokes       1  \n",
       "3             Rural             174.12  24.0     never smoked       1  \n",
       "4             Urban             186.21  29.0  formerly smoked       1  \n",
       "...             ...                ...   ...              ...     ...  \n",
       "4976          Rural              70.15  29.8  formerly smoked       0  \n",
       "4977          Urban             191.15  31.1           smokes       0  \n",
       "4978          Rural              95.02  31.8           smokes       0  \n",
       "4979          Rural              83.94  30.0           smokes       0  \n",
       "4980          Urban              83.75  29.1     never smoked       0  \n",
       "\n",
       "[4981 rows x 11 columns]"
      ]
     },
     "execution_count": 4,
     "metadata": {},
     "output_type": "execute_result"
    }
   ],
   "source": [
    "data\n"
   ]
  },
  {
   "cell_type": "code",
   "execution_count": 5,
   "id": "4379d199",
   "metadata": {
    "execution": {
     "iopub.execute_input": "2024-11-18T16:17:48.771843Z",
     "iopub.status.busy": "2024-11-18T16:17:48.769941Z",
     "iopub.status.idle": "2024-11-18T16:17:48.783389Z",
     "shell.execute_reply": "2024-11-18T16:17:48.781333Z"
    },
    "papermill": {
     "duration": 0.028071,
     "end_time": "2024-11-18T16:17:48.787112",
     "exception": false,
     "start_time": "2024-11-18T16:17:48.759041",
     "status": "completed"
    },
    "tags": []
   },
   "outputs": [],
   "source": [
    "#postavljanje X i y varijable\n",
    "target='stroke'\n",
    "X=data.loc[:,data.columns!=target]\n",
    "y=data.loc[:,data.columns==target]"
   ]
  },
  {
   "cell_type": "code",
   "execution_count": 6,
   "id": "49d9b322",
   "metadata": {
    "execution": {
     "iopub.execute_input": "2024-11-18T16:17:48.808828Z",
     "iopub.status.busy": "2024-11-18T16:17:48.808354Z",
     "iopub.status.idle": "2024-11-18T16:17:48.833827Z",
     "shell.execute_reply": "2024-11-18T16:17:48.832426Z"
    },
    "papermill": {
     "duration": 0.039887,
     "end_time": "2024-11-18T16:17:48.837221",
     "exception": false,
     "start_time": "2024-11-18T16:17:48.797334",
     "status": "completed"
    },
    "tags": []
   },
   "outputs": [],
   "source": [
    "#korištenje one_hot encoding za kategoričke varijable\n",
    "columns=['gender','age','hypertension','heart_disease','ever_married','work_type',\n",
    "        'Residence_type','avg_glucose_level','bmi','smoking_status']\n",
    "X=pd.get_dummies(X[columns])\n"
   ]
  },
  {
   "cell_type": "code",
   "execution_count": 7,
   "id": "c07713eb",
   "metadata": {
    "execution": {
     "iopub.execute_input": "2024-11-18T16:17:48.856911Z",
     "iopub.status.busy": "2024-11-18T16:17:48.856410Z",
     "iopub.status.idle": "2024-11-18T16:17:49.155655Z",
     "shell.execute_reply": "2024-11-18T16:17:49.154166Z"
    },
    "papermill": {
     "duration": 0.312563,
     "end_time": "2024-11-18T16:17:49.158663",
     "exception": false,
     "start_time": "2024-11-18T16:17:48.846100",
     "status": "completed"
    },
    "tags": []
   },
   "outputs": [
    {
     "name": "stdout",
     "output_type": "stream",
     "text": [
      "stroke\n",
      "0    4733\n",
      "1     248\n",
      "Name: count, dtype: int64\n"
     ]
    },
    {
     "data": {
      "image/png": "[encoded data removed]",
      "text/plain": [
       "<Figure size 640x480 with 1 Axes>"
      ]
     },
     "metadata": {},
     "output_type": "display_data"
    }
   ],
   "source": [
    "#prikaz target varijable na plotu\n",
    "ax = sns.countplot(x=target,data=data)\n",
    "print(data[target].value_counts())"
   ]
  },
  {
   "cell_type": "code",
   "execution_count": 8,
   "id": "90b034d8",
   "metadata": {
    "execution": {
     "iopub.execute_input": "2024-11-18T16:17:49.180137Z",
     "iopub.status.busy": "2024-11-18T16:17:49.179396Z",
     "iopub.status.idle": "2024-11-18T16:17:50.206528Z",
     "shell.execute_reply": "2024-11-18T16:17:50.205142Z"
    },
    "papermill": {
     "duration": 1.041999,
     "end_time": "2024-11-18T16:17:50.210022",
     "exception": false,
     "start_time": "2024-11-18T16:17:49.168023",
     "status": "completed"
    },
    "tags": []
   },
   "outputs": [],
   "source": [
    "#korištenje SMOTE() za rješavanje disbalansa između target vrijednosti\n",
    "import seaborn as sns\n",
    "from sklearn.datasets import make_classification\n",
    "from imblearn.over_sampling import SMOTE\n",
    "\n",
    "oversample = SMOTE()\n",
    "X, y = oversample.fit_resample(X, y)"
   ]
  },
  {
   "cell_type": "code",
   "execution_count": 9,
   "id": "153b7d49",
   "metadata": {
    "execution": {
     "iopub.execute_input": "2024-11-18T16:17:50.231619Z",
     "iopub.status.busy": "2024-11-18T16:17:50.230723Z",
     "iopub.status.idle": "2024-11-18T16:17:50.506348Z",
     "shell.execute_reply": "2024-11-18T16:17:50.504423Z"
    },
    "papermill": {
     "duration": 0.29029,
     "end_time": "2024-11-18T16:17:50.509976",
     "exception": false,
     "start_time": "2024-11-18T16:17:50.219686",
     "status": "completed"
    },
    "tags": []
   },
   "outputs": [
    {
     "name": "stdout",
     "output_type": "stream",
     "text": [
      "stroke\n",
      "1    4733\n",
      "0    4733\n",
      "Name: count, dtype: int64\n"
     ]
    },
    {
     "data": {
      "image/png": "[encoded data removed]",
      "text/plain": [
       "<Figure size 640x480 with 1 Axes>"
      ]
     },
     "metadata": {},
     "output_type": "display_data"
    }
   ],
   "source": [
    "#prikaz nakon SMOTE()\n",
    "ax=sns.countplot(x=target,data=y)\n",
    "print(y[target].value_counts())"
   ]
  },
  {
   "cell_type": "code",
   "execution_count": 10,
   "id": "cf4fc788",
   "metadata": {
    "execution": {
     "iopub.execute_input": "2024-11-18T16:17:50.531888Z",
     "iopub.status.busy": "2024-11-18T16:17:50.531398Z",
     "iopub.status.idle": "2024-11-18T16:17:50.909700Z",
     "shell.execute_reply": "2024-11-18T16:17:50.908159Z"
    },
    "papermill": {
     "duration": 0.392161,
     "end_time": "2024-11-18T16:17:50.912637",
     "exception": false,
     "start_time": "2024-11-18T16:17:50.520476",
     "status": "completed"
    },
    "tags": []
   },
   "outputs": [
    {
     "data": {
      "image/png": "[encoded data removed]",
      "text/plain": [
       "<Figure size 1000x500 with 1 Axes>"
      ]
     },
     "metadata": {},
     "output_type": "display_data"
    }
   ],
   "source": [
    "#vizualizacija smoking_statusa po grupama\n",
    "\n",
    "smoking_status=data['smoking_status'].value_counts()\n",
    "\n",
    "plt.figure(figsize=(10, 5))\n",
    "sns.set_style(\"whitegrid\")\n",
    "sns.barplot(x=smoking_status.index, y=smoking_status.values, palette='hls')\n",
    "plt.title('Group of people by smoking status')\n",
    "plt.xlabel('Smoking status')\n",
    "plt.ylabel('Count')\n",
    "plt.show()"
   ]
  },
  {
   "cell_type": "code",
   "execution_count": 11,
   "id": "5ae78a56",
   "metadata": {
    "execution": {
     "iopub.execute_input": "2024-11-18T16:17:50.935577Z",
     "iopub.status.busy": "2024-11-18T16:17:50.935091Z",
     "iopub.status.idle": "2024-11-18T16:17:51.229631Z",
     "shell.execute_reply": "2024-11-18T16:17:51.228238Z"
    },
    "papermill": {
     "duration": 0.31001,
     "end_time": "2024-11-18T16:17:51.232643",
     "exception": false,
     "start_time": "2024-11-18T16:17:50.922633",
     "status": "completed"
    },
    "tags": []
   },
   "outputs": [
    {
     "data": {
      "image/png": "[encoded data removed]",
      "text/plain": [
       "<Figure size 1000x500 with 1 Axes>"
      ]
     },
     "metadata": {},
     "output_type": "display_data"
    }
   ],
   "source": [
    "#vizualizacija hypertension po grupama\n",
    "\n",
    "hypertension=data['hypertension'].value_counts()\n",
    "\n",
    "plt.figure(figsize=(10, 5))\n",
    "sns.set_style(\"whitegrid\")\n",
    "plt.title('Group of people by hypertension')\n",
    "plt.xlabel('Hypertension')\n",
    "plt.ylabel('Count')\n",
    "sns.countplot(x=\"hypertension\",data=data, palette='hls')\n",
    "plt.show()\n"
   ]
  },
  {
   "cell_type": "code",
   "execution_count": 12,
   "id": "1dca6be5",
   "metadata": {
    "execution": {
     "iopub.execute_input": "2024-11-18T16:17:51.256274Z",
     "iopub.status.busy": "2024-11-18T16:17:51.255780Z",
     "iopub.status.idle": "2024-11-18T16:17:51.270320Z",
     "shell.execute_reply": "2024-11-18T16:17:51.268888Z"
    },
    "papermill": {
     "duration": 0.030226,
     "end_time": "2024-11-18T16:17:51.273482",
     "exception": false,
     "start_time": "2024-11-18T16:17:51.243256",
     "status": "completed"
    },
    "tags": []
   },
   "outputs": [],
   "source": [
    "#razdvajanje podataka na trening i testne\n",
    "from sklearn.model_selection import train_test_split\n",
    "X_train, X_test, y_train, y_test = train_test_split(X, y, test_size=0.2, shuffle=True)"
   ]
  },
  {
   "cell_type": "code",
   "execution_count": 13,
   "id": "c2f98796",
   "metadata": {
    "execution": {
     "iopub.execute_input": "2024-11-18T16:17:51.296698Z",
     "iopub.status.busy": "2024-11-18T16:17:51.296239Z",
     "iopub.status.idle": "2024-11-18T16:17:51.304367Z",
     "shell.execute_reply": "2024-11-18T16:17:51.302647Z"
    },
    "papermill": {
     "duration": 0.023391,
     "end_time": "2024-11-18T16:17:51.307182",
     "exception": false,
     "start_time": "2024-11-18T16:17:51.283791",
     "status": "completed"
    },
    "tags": []
   },
   "outputs": [
    {
     "name": "stdout",
     "output_type": "stream",
     "text": [
      "X train shape:  (7572, 19)\n",
      "X test shape:  (1894, 19)\n",
      "y train shape:  (7572, 1)\n",
      "y test shape:  (1894, 1)\n"
     ]
    }
   ],
   "source": [
    "#prikaz podataka\n",
    "print(\"X train shape: \",X_train.shape)\n",
    "print(\"X test shape: \",X_test.shape)\n",
    "print(\"y train shape: \",y_train.shape)\n",
    "print(\"y test shape: \",y_test.shape)"
   ]
  },
  {
   "cell_type": "code",
   "execution_count": 14,
   "id": "b358b9e1",
   "metadata": {
    "execution": {
     "iopub.execute_input": "2024-11-18T16:17:51.330605Z",
     "iopub.status.busy": "2024-11-18T16:17:51.330164Z",
     "iopub.status.idle": "2024-11-18T16:17:51.484511Z",
     "shell.execute_reply": "2024-11-18T16:17:51.483171Z"
    },
    "papermill": {
     "duration": 0.169566,
     "end_time": "2024-11-18T16:17:51.487690",
     "exception": false,
     "start_time": "2024-11-18T16:17:51.318124",
     "status": "completed"
    },
    "tags": []
   },
   "outputs": [],
   "source": [
    "#incijaliziranje slojeva:input,tri skrivena sloja i output sloj\n",
    "model=Sequential()\n",
    "model.add(Dense(400,activation='relu',input_shape=(X_train.shape[1],)))\n",
    "model.add(Dropout(0.5))\n",
    "model.add(Dense(400,activation='relu'))\n",
    "model.add(Dropout(0.5))\n",
    "model.add(Dense(128,activation='relu'))\n",
    "model.add(Dense(1,activation='sigmoid'))"
   ]
  },
  {
   "cell_type": "code",
   "execution_count": 15,
   "id": "c6d6564a",
   "metadata": {
    "execution": {
     "iopub.execute_input": "2024-11-18T16:17:51.510585Z",
     "iopub.status.busy": "2024-11-18T16:17:51.510146Z",
     "iopub.status.idle": "2024-11-18T16:17:51.540869Z",
     "shell.execute_reply": "2024-11-18T16:17:51.539509Z"
    },
    "papermill": {
     "duration": 0.045453,
     "end_time": "2024-11-18T16:17:51.543603",
     "exception": false,
     "start_time": "2024-11-18T16:17:51.498150",
     "status": "completed"
    },
    "tags": []
   },
   "outputs": [
    {
     "data": {
      "text/html": [
       "<pre style=\"white-space:pre;overflow-x:auto;line-height:normal;font-family:Menlo,'DejaVu Sans Mono',consolas,'Courier New',monospace\"><span style=\"font-weight: bold\">Model: \"sequential\"</span>\n",
       "</pre>\n"
      ],
      "text/plain": [
       "\u001b[1mModel: \"sequential\"\u001b[0m\n"
      ]
     },
     "metadata": {},
     "output_type": "display_data"
    },
    {
     "data": {
      "text/html": [
       "<pre style=\"white-space:pre;overflow-x:auto;line-height:normal;font-family:Menlo,'DejaVu Sans Mono',consolas,'Courier New',monospace\">┏━━━━━━━━━━━━━━━━━━━━━━━━━━━━━━━━━┳━━━━━━━━━━━━━━━━━━━━━━━━┳━━━━━━━━━━━━━━━┓\n",
       "┃<span style=\"font-weight: bold\"> Layer (type)                    </span>┃<span style=\"font-weight: bold\"> Output Shape           </span>┃<span style=\"font-weight: bold\">       Param # </span>┃\n",
       "┡━━━━━━━━━━━━━━━━━━━━━━━━━━━━━━━━━╇━━━━━━━━━━━━━━━━━━━━━━━━╇━━━━━━━━━━━━━━━┩\n",
       "│ dense (<span style=\"color: #0087ff; text-decoration-color: #0087ff\">Dense</span>)                   │ (<span style=\"color: #00d7ff; text-decoration-color: #00d7ff\">None</span>, <span style=\"color: #00af00; text-decoration-color: #00af00\">400</span>)            │         <span style=\"color: #00af00; text-decoration-color: #00af00\">8,000</span> │\n",
       "├─────────────────────────────────┼────────────────────────┼───────────────┤\n",
       "│ dropout (<span style=\"color: #0087ff; text-decoration-color: #0087ff\">Dropout</span>)               │ (<span style=\"color: #00d7ff; text-decoration-color: #00d7ff\">None</span>, <span style=\"color: #00af00; text-decoration-color: #00af00\">400</span>)            │             <span style=\"color: #00af00; text-decoration-color: #00af00\">0</span> │\n",
       "├─────────────────────────────────┼────────────────────────┼───────────────┤\n",
       "│ dense_1 (<span style=\"color: #0087ff; text-decoration-color: #0087ff\">Dense</span>)                 │ (<span style=\"color: #00d7ff; text-decoration-color: #00d7ff\">None</span>, <span style=\"color: #00af00; text-decoration-color: #00af00\">400</span>)            │       <span style=\"color: #00af00; text-decoration-color: #00af00\">160,400</span> │\n",
       "├─────────────────────────────────┼────────────────────────┼───────────────┤\n",
       "│ dropout_1 (<span style=\"color: #0087ff; text-decoration-color: #0087ff\">Dropout</span>)             │ (<span style=\"color: #00d7ff; text-decoration-color: #00d7ff\">None</span>, <span style=\"color: #00af00; text-decoration-color: #00af00\">400</span>)            │             <span style=\"color: #00af00; text-decoration-color: #00af00\">0</span> │\n",
       "├─────────────────────────────────┼────────────────────────┼───────────────┤\n",
       "│ dense_2 (<span style=\"color: #0087ff; text-decoration-color: #0087ff\">Dense</span>)                 │ (<span style=\"color: #00d7ff; text-decoration-color: #00d7ff\">None</span>, <span style=\"color: #00af00; text-decoration-color: #00af00\">128</span>)            │        <span style=\"color: #00af00; text-decoration-color: #00af00\">51,328</span> │\n",
       "├─────────────────────────────────┼────────────────────────┼───────────────┤\n",
       "│ dense_3 (<span style=\"color: #0087ff; text-decoration-color: #0087ff\">Dense</span>)                 │ (<span style=\"color: #00d7ff; text-decoration-color: #00d7ff\">None</span>, <span style=\"color: #00af00; text-decoration-color: #00af00\">1</span>)              │           <span style=\"color: #00af00; text-decoration-color: #00af00\">129</span> │\n",
       "└─────────────────────────────────┴────────────────────────┴───────────────┘\n",
       "</pre>\n"
      ],
      "text/plain": [
       "┏━━━━━━━━━━━━━━━━━━━━━━━━━━━━━━━━━┳━━━━━━━━━━━━━━━━━━━━━━━━┳━━━━━━━━━━━━━━━┓\n",
       "┃\u001b[1m \u001b[0m\u001b[1mLayer (type)                   \u001b[0m\u001b[1m \u001b[0m┃\u001b[1m \u001b[0m\u001b[1mOutput Shape          \u001b[0m\u001b[1m \u001b[0m┃\u001b[1m \u001b[0m\u001b[1m      Param #\u001b[0m\u001b[1m \u001b[0m┃\n",
       "┡━━━━━━━━━━━━━━━━━━━━━━━━━━━━━━━━━╇━━━━━━━━━━━━━━━━━━━━━━━━╇━━━━━━━━━━━━━━━┩\n",
       "│ dense (\u001b[38;5;33mDense\u001b[0m)                   │ (\u001b[38;5;45mNone\u001b[0m, \u001b[38;5;34m400\u001b[0m)            │         \u001b[38;5;34m8,000\u001b[0m │\n",
       "├─────────────────────────────────┼────────────────────────┼───────────────┤\n",
       "│ dropout (\u001b[38;5;33mDropout\u001b[0m)               │ (\u001b[38;5;45mNone\u001b[0m, \u001b[38;5;34m400\u001b[0m)            │             \u001b[38;5;34m0\u001b[0m │\n",
       "├─────────────────────────────────┼────────────────────────┼───────────────┤\n",
       "│ dense_1 (\u001b[38;5;33mDense\u001b[0m)                 │ (\u001b[38;5;45mNone\u001b[0m, \u001b[38;5;34m400\u001b[0m)            │       \u001b[38;5;34m160,400\u001b[0m │\n",
       "├─────────────────────────────────┼────────────────────────┼───────────────┤\n",
       "│ dropout_1 (\u001b[38;5;33mDropout\u001b[0m)             │ (\u001b[38;5;45mNone\u001b[0m, \u001b[38;5;34m400\u001b[0m)            │             \u001b[38;5;34m0\u001b[0m │\n",
       "├─────────────────────────────────┼────────────────────────┼───────────────┤\n",
       "│ dense_2 (\u001b[38;5;33mDense\u001b[0m)                 │ (\u001b[38;5;45mNone\u001b[0m, \u001b[38;5;34m128\u001b[0m)            │        \u001b[38;5;34m51,328\u001b[0m │\n",
       "├─────────────────────────────────┼────────────────────────┼───────────────┤\n",
       "│ dense_3 (\u001b[38;5;33mDense\u001b[0m)                 │ (\u001b[38;5;45mNone\u001b[0m, \u001b[38;5;34m1\u001b[0m)              │           \u001b[38;5;34m129\u001b[0m │\n",
       "└─────────────────────────────────┴────────────────────────┴───────────────┘\n"
      ]
     },
     "metadata": {},
     "output_type": "display_data"
    },
    {
     "data": {
      "text/html": [
       "<pre style=\"white-space:pre;overflow-x:auto;line-height:normal;font-family:Menlo,'DejaVu Sans Mono',consolas,'Courier New',monospace\"><span style=\"font-weight: bold\"> Total params: </span><span style=\"color: #00af00; text-decoration-color: #00af00\">219,857</span> (858.82 KB)\n",
       "</pre>\n"
      ],
      "text/plain": [
       "\u001b[1m Total params: \u001b[0m\u001b[38;5;34m219,857\u001b[0m (858.82 KB)\n"
      ]
     },
     "metadata": {},
     "output_type": "display_data"
    },
    {
     "data": {
      "text/html": [
       "<pre style=\"white-space:pre;overflow-x:auto;line-height:normal;font-family:Menlo,'DejaVu Sans Mono',consolas,'Courier New',monospace\"><span style=\"font-weight: bold\"> Trainable params: </span><span style=\"color: #00af00; text-decoration-color: #00af00\">219,857</span> (858.82 KB)\n",
       "</pre>\n"
      ],
      "text/plain": [
       "\u001b[1m Trainable params: \u001b[0m\u001b[38;5;34m219,857\u001b[0m (858.82 KB)\n"
      ]
     },
     "metadata": {},
     "output_type": "display_data"
    },
    {
     "data": {
      "text/html": [
       "<pre style=\"white-space:pre;overflow-x:auto;line-height:normal;font-family:Menlo,'DejaVu Sans Mono',consolas,'Courier New',monospace\"><span style=\"font-weight: bold\"> Non-trainable params: </span><span style=\"color: #00af00; text-decoration-color: #00af00\">0</span> (0.00 B)\n",
       "</pre>\n"
      ],
      "text/plain": [
       "\u001b[1m Non-trainable params: \u001b[0m\u001b[38;5;34m0\u001b[0m (0.00 B)\n"
      ]
     },
     "metadata": {},
     "output_type": "display_data"
    }
   ],
   "source": [
    "model.summary()\n"
   ]
  },
  {
   "cell_type": "code",
   "execution_count": 16,
   "id": "b8267ffd",
   "metadata": {
    "execution": {
     "iopub.execute_input": "2024-11-18T16:17:51.569585Z",
     "iopub.status.busy": "2024-11-18T16:17:51.569149Z",
     "iopub.status.idle": "2024-11-18T16:17:51.587983Z",
     "shell.execute_reply": "2024-11-18T16:17:51.586553Z"
    },
    "papermill": {
     "duration": 0.034759,
     "end_time": "2024-11-18T16:17:51.591003",
     "exception": false,
     "start_time": "2024-11-18T16:17:51.556244",
     "status": "completed"
    },
    "tags": []
   },
   "outputs": [],
   "source": [
    "#postavljanje funkcije pogreške i optimajzera(algoritma za smanjivanje pogreške)\n",
    "optimizer=Adamax(learning_rate=0.001)\n",
    "model.compile(optimizer=optimizer,loss='binary_crossentropy',metrics=['accuracy'])"
   ]
  },
  {
   "cell_type": "code",
   "execution_count": 17,
   "id": "8c963512",
   "metadata": {
    "execution": {
     "iopub.execute_input": "2024-11-18T16:17:51.617284Z",
     "iopub.status.busy": "2024-11-18T16:17:51.615969Z",
     "iopub.status.idle": "2024-11-18T16:20:58.797636Z",
     "shell.execute_reply": "2024-11-18T16:20:58.796186Z"
    },
    "papermill": {
     "duration": 187.198295,
     "end_time": "2024-11-18T16:20:58.801112",
     "exception": false,
     "start_time": "2024-11-18T16:17:51.602817",
     "status": "completed"
    },
    "tags": []
   },
   "outputs": [
    {
     "name": "stdout",
     "output_type": "stream",
     "text": [
      "Epoch 1/300\n",
      "\u001b[1m60/60\u001b[0m \u001b[32m━━━━━━━━━━━━━━━━━━━━\u001b[0m\u001b[37m\u001b[0m \u001b[1m3s\u001b[0m 12ms/step - accuracy: 0.5244 - loss: 3.0124 - val_accuracy: 0.7276 - val_loss: 0.5593\n",
      "Epoch 2/300\n",
      "\u001b[1m60/60\u001b[0m \u001b[32m━━━━━━━━━━━━━━━━━━━━\u001b[0m\u001b[37m\u001b[0m \u001b[1m1s\u001b[0m 9ms/step - accuracy: 0.5676 - loss: 1.2326 - val_accuracy: 0.7450 - val_loss: 0.5707\n",
      "Epoch 3/300\n",
      "\u001b[1m60/60\u001b[0m \u001b[32m━━━━━━━━━━━━━━━━━━━━\u001b[0m\u001b[37m\u001b[0m \u001b[1m1s\u001b[0m 10ms/step - accuracy: 0.5967 - loss: 0.9386 - val_accuracy: 0.6742 - val_loss: 0.5838\n",
      "Epoch 4/300\n",
      "\u001b[1m60/60\u001b[0m \u001b[32m━━━━━━━━━━━━━━━━━━━━\u001b[0m\u001b[37m\u001b[0m \u001b[1m1s\u001b[0m 9ms/step - accuracy: 0.6200 - loss: 0.8625 - val_accuracy: 0.6103 - val_loss: 0.6408\n",
      "Epoch 5/300\n",
      "\u001b[1m60/60\u001b[0m \u001b[32m━━━━━━━━━━━━━━━━━━━━\u001b[0m\u001b[37m\u001b[0m \u001b[1m1s\u001b[0m 9ms/step - accuracy: 0.6392 - loss: 0.7757 - val_accuracy: 0.6399 - val_loss: 0.6093\n",
      "Epoch 6/300\n",
      "\u001b[1m60/60\u001b[0m \u001b[32m━━━━━━━━━━━━━━━━━━━━\u001b[0m\u001b[37m\u001b[0m \u001b[1m1s\u001b[0m 9ms/step - accuracy: 0.6495 - loss: 0.7162 - val_accuracy: 0.6663 - val_loss: 0.6098\n",
      "Epoch 7/300\n",
      "\u001b[1m60/60\u001b[0m \u001b[32m━━━━━━━━━━━━━━━━━━━━\u001b[0m\u001b[37m\u001b[0m \u001b[1m1s\u001b[0m 9ms/step - accuracy: 0.6508 - loss: 0.7044 - val_accuracy: 0.6558 - val_loss: 0.6027\n",
      "Epoch 8/300\n",
      "\u001b[1m60/60\u001b[0m \u001b[32m━━━━━━━━━━━━━━━━━━━━\u001b[0m\u001b[37m\u001b[0m \u001b[1m1s\u001b[0m 9ms/step - accuracy: 0.6652 - loss: 0.6666 - val_accuracy: 0.6758 - val_loss: 0.6098\n",
      "Epoch 9/300\n",
      "\u001b[1m60/60\u001b[0m \u001b[32m━━━━━━━━━━━━━━━━━━━━\u001b[0m\u001b[37m\u001b[0m \u001b[1m1s\u001b[0m 9ms/step - accuracy: 0.6693 - loss: 0.6396 - val_accuracy: 0.7207 - val_loss: 0.5819\n",
      "Epoch 10/300\n",
      "\u001b[1m60/60\u001b[0m \u001b[32m━━━━━━━━━━━━━━━━━━━━\u001b[0m\u001b[37m\u001b[0m \u001b[1m1s\u001b[0m 10ms/step - accuracy: 0.6705 - loss: 0.6405 - val_accuracy: 0.7328 - val_loss: 0.5764\n",
      "Epoch 11/300\n",
      "\u001b[1m60/60\u001b[0m \u001b[32m━━━━━━━━━━━━━━━━━━━━\u001b[0m\u001b[37m\u001b[0m \u001b[1m1s\u001b[0m 9ms/step - accuracy: 0.6894 - loss: 0.6208 - val_accuracy: 0.7270 - val_loss: 0.5638\n",
      "Epoch 12/300\n",
      "\u001b[1m60/60\u001b[0m \u001b[32m━━━━━━━━━━━━━━━━━━━━\u001b[0m\u001b[37m\u001b[0m \u001b[1m1s\u001b[0m 9ms/step - accuracy: 0.6876 - loss: 0.6010 - val_accuracy: 0.7587 - val_loss: 0.5541\n",
      "Epoch 13/300\n",
      "\u001b[1m60/60\u001b[0m \u001b[32m━━━━━━━━━━━━━━━━━━━━\u001b[0m\u001b[37m\u001b[0m \u001b[1m1s\u001b[0m 9ms/step - accuracy: 0.6857 - loss: 0.6026 - val_accuracy: 0.7650 - val_loss: 0.5545\n",
      "Epoch 14/300\n",
      "\u001b[1m60/60\u001b[0m \u001b[32m━━━━━━━━━━━━━━━━━━━━\u001b[0m\u001b[37m\u001b[0m \u001b[1m1s\u001b[0m 9ms/step - accuracy: 0.6983 - loss: 0.5827 - val_accuracy: 0.7640 - val_loss: 0.5462\n",
      "Epoch 15/300\n",
      "\u001b[1m60/60\u001b[0m \u001b[32m━━━━━━━━━━━━━━━━━━━━\u001b[0m\u001b[37m\u001b[0m \u001b[1m1s\u001b[0m 10ms/step - accuracy: 0.6884 - loss: 0.5908 - val_accuracy: 0.7598 - val_loss: 0.5511\n",
      "Epoch 16/300\n",
      "\u001b[1m60/60\u001b[0m \u001b[32m━━━━━━━━━━━━━━━━━━━━\u001b[0m\u001b[37m\u001b[0m \u001b[1m1s\u001b[0m 10ms/step - accuracy: 0.7097 - loss: 0.5677 - val_accuracy: 0.7656 - val_loss: 0.5489\n",
      "Epoch 17/300\n",
      "\u001b[1m60/60\u001b[0m \u001b[32m━━━━━━━━━━━━━━━━━━━━\u001b[0m\u001b[37m\u001b[0m \u001b[1m1s\u001b[0m 9ms/step - accuracy: 0.7127 - loss: 0.5680 - val_accuracy: 0.7661 - val_loss: 0.5500\n",
      "Epoch 18/300\n",
      "\u001b[1m60/60\u001b[0m \u001b[32m━━━━━━━━━━━━━━━━━━━━\u001b[0m\u001b[37m\u001b[0m \u001b[1m1s\u001b[0m 10ms/step - accuracy: 0.7145 - loss: 0.5586 - val_accuracy: 0.7656 - val_loss: 0.5399\n",
      "Epoch 19/300\n",
      "\u001b[1m60/60\u001b[0m \u001b[32m━━━━━━━━━━━━━━━━━━━━\u001b[0m\u001b[37m\u001b[0m \u001b[1m1s\u001b[0m 10ms/step - accuracy: 0.7231 - loss: 0.5450 - val_accuracy: 0.7714 - val_loss: 0.5376\n",
      "Epoch 20/300\n",
      "\u001b[1m60/60\u001b[0m \u001b[32m━━━━━━━━━━━━━━━━━━━━\u001b[0m\u001b[37m\u001b[0m \u001b[1m1s\u001b[0m 10ms/step - accuracy: 0.7309 - loss: 0.5350 - val_accuracy: 0.7735 - val_loss: 0.5339\n",
      "Epoch 21/300\n",
      "\u001b[1m60/60\u001b[0m \u001b[32m━━━━━━━━━━━━━━━━━━━━\u001b[0m\u001b[37m\u001b[0m \u001b[1m1s\u001b[0m 9ms/step - accuracy: 0.7152 - loss: 0.5464 - val_accuracy: 0.7698 - val_loss: 0.5348\n",
      "Epoch 22/300\n",
      "\u001b[1m60/60\u001b[0m \u001b[32m━━━━━━━━━━━━━━━━━━━━\u001b[0m\u001b[37m\u001b[0m \u001b[1m1s\u001b[0m 9ms/step - accuracy: 0.7209 - loss: 0.5517 - val_accuracy: 0.7756 - val_loss: 0.5325\n",
      "Epoch 23/300\n",
      "\u001b[1m60/60\u001b[0m \u001b[32m━━━━━━━━━━━━━━━━━━━━\u001b[0m\u001b[37m\u001b[0m \u001b[1m1s\u001b[0m 11ms/step - accuracy: 0.7226 - loss: 0.5393 - val_accuracy: 0.7719 - val_loss: 0.5305\n",
      "Epoch 24/300\n",
      "\u001b[1m60/60\u001b[0m \u001b[32m━━━━━━━━━━━━━━━━━━━━\u001b[0m\u001b[37m\u001b[0m \u001b[1m1s\u001b[0m 11ms/step - accuracy: 0.7270 - loss: 0.5328 - val_accuracy: 0.7825 - val_loss: 0.5264\n",
      "Epoch 25/300\n",
      "\u001b[1m60/60\u001b[0m \u001b[32m━━━━━━━━━━━━━━━━━━━━\u001b[0m\u001b[37m\u001b[0m \u001b[1m1s\u001b[0m 9ms/step - accuracy: 0.7351 - loss: 0.5238 - val_accuracy: 0.7719 - val_loss: 0.5255\n",
      "Epoch 26/300\n",
      "\u001b[1m60/60\u001b[0m \u001b[32m━━━━━━━━━━━━━━━━━━━━\u001b[0m\u001b[37m\u001b[0m \u001b[1m1s\u001b[0m 10ms/step - accuracy: 0.7363 - loss: 0.5169 - val_accuracy: 0.7703 - val_loss: 0.5363\n",
      "Epoch 27/300\n",
      "\u001b[1m60/60\u001b[0m \u001b[32m━━━━━━━━━━━━━━━━━━━━\u001b[0m\u001b[37m\u001b[0m \u001b[1m1s\u001b[0m 10ms/step - accuracy: 0.7433 - loss: 0.5188 - val_accuracy: 0.7656 - val_loss: 0.5346\n",
      "Epoch 28/300\n",
      "\u001b[1m60/60\u001b[0m \u001b[32m━━━━━━━━━━━━━━━━━━━━\u001b[0m\u001b[37m\u001b[0m \u001b[1m1s\u001b[0m 11ms/step - accuracy: 0.7410 - loss: 0.5168 - val_accuracy: 0.7471 - val_loss: 0.5301\n",
      "Epoch 29/300\n",
      "\u001b[1m60/60\u001b[0m \u001b[32m━━━━━━━━━━━━━━━━━━━━\u001b[0m\u001b[37m\u001b[0m \u001b[1m1s\u001b[0m 11ms/step - accuracy: 0.7327 - loss: 0.5282 - val_accuracy: 0.7603 - val_loss: 0.5254\n",
      "Epoch 30/300\n",
      "\u001b[1m60/60\u001b[0m \u001b[32m━━━━━━━━━━━━━━━━━━━━\u001b[0m\u001b[37m\u001b[0m \u001b[1m1s\u001b[0m 10ms/step - accuracy: 0.7543 - loss: 0.5050 - val_accuracy: 0.7761 - val_loss: 0.5221\n",
      "Epoch 31/300\n",
      "\u001b[1m60/60\u001b[0m \u001b[32m━━━━━━━━━━━━━━━━━━━━\u001b[0m\u001b[37m\u001b[0m \u001b[1m1s\u001b[0m 10ms/step - accuracy: 0.7421 - loss: 0.5119 - val_accuracy: 0.7466 - val_loss: 0.5272\n",
      "Epoch 32/300\n",
      "\u001b[1m60/60\u001b[0m \u001b[32m━━━━━━━━━━━━━━━━━━━━\u001b[0m\u001b[37m\u001b[0m \u001b[1m1s\u001b[0m 10ms/step - accuracy: 0.7529 - loss: 0.5035 - val_accuracy: 0.7059 - val_loss: 0.5460\n",
      "Epoch 33/300\n",
      "\u001b[1m60/60\u001b[0m \u001b[32m━━━━━━━━━━━━━━━━━━━━\u001b[0m\u001b[37m\u001b[0m \u001b[1m1s\u001b[0m 10ms/step - accuracy: 0.7375 - loss: 0.5086 - val_accuracy: 0.6827 - val_loss: 0.5513\n",
      "Epoch 34/300\n",
      "\u001b[1m60/60\u001b[0m \u001b[32m━━━━━━━━━━━━━━━━━━━━\u001b[0m\u001b[37m\u001b[0m \u001b[1m1s\u001b[0m 10ms/step - accuracy: 0.7511 - loss: 0.5012 - val_accuracy: 0.7550 - val_loss: 0.5165\n",
      "Epoch 35/300\n",
      "\u001b[1m60/60\u001b[0m \u001b[32m━━━━━━━━━━━━━━━━━━━━\u001b[0m\u001b[37m\u001b[0m \u001b[1m1s\u001b[0m 11ms/step - accuracy: 0.7538 - loss: 0.5006 - val_accuracy: 0.7524 - val_loss: 0.5196\n",
      "Epoch 36/300\n",
      "\u001b[1m60/60\u001b[0m \u001b[32m━━━━━━━━━━━━━━━━━━━━\u001b[0m\u001b[37m\u001b[0m \u001b[1m1s\u001b[0m 10ms/step - accuracy: 0.7543 - loss: 0.5038 - val_accuracy: 0.7666 - val_loss: 0.5091\n",
      "Epoch 37/300\n",
      "\u001b[1m60/60\u001b[0m \u001b[32m━━━━━━━━━━━━━━━━━━━━\u001b[0m\u001b[37m\u001b[0m \u001b[1m1s\u001b[0m 9ms/step - accuracy: 0.7607 - loss: 0.4920 - val_accuracy: 0.7577 - val_loss: 0.5110\n",
      "Epoch 38/300\n",
      "\u001b[1m60/60\u001b[0m \u001b[32m━━━━━━━━━━━━━━━━━━━━\u001b[0m\u001b[37m\u001b[0m \u001b[1m1s\u001b[0m 9ms/step - accuracy: 0.7657 - loss: 0.4803 - val_accuracy: 0.7534 - val_loss: 0.5137\n",
      "Epoch 39/300\n",
      "\u001b[1m60/60\u001b[0m \u001b[32m━━━━━━━━━━━━━━━━━━━━\u001b[0m\u001b[37m\u001b[0m \u001b[1m1s\u001b[0m 9ms/step - accuracy: 0.7655 - loss: 0.4751 - val_accuracy: 0.7482 - val_loss: 0.5140\n",
      "Epoch 40/300\n",
      "\u001b[1m60/60\u001b[0m \u001b[32m━━━━━━━━━━━━━━━━━━━━\u001b[0m\u001b[37m\u001b[0m \u001b[1m1s\u001b[0m 9ms/step - accuracy: 0.7763 - loss: 0.4696 - val_accuracy: 0.7793 - val_loss: 0.4929\n",
      "Epoch 41/300\n",
      "\u001b[1m60/60\u001b[0m \u001b[32m━━━━━━━━━━━━━━━━━━━━\u001b[0m\u001b[37m\u001b[0m \u001b[1m1s\u001b[0m 10ms/step - accuracy: 0.7760 - loss: 0.4635 - val_accuracy: 0.7466 - val_loss: 0.5077\n",
      "Epoch 42/300\n",
      "\u001b[1m60/60\u001b[0m \u001b[32m━━━━━━━━━━━━━━━━━━━━\u001b[0m\u001b[37m\u001b[0m \u001b[1m1s\u001b[0m 10ms/step - accuracy: 0.7731 - loss: 0.4619 - val_accuracy: 0.7851 - val_loss: 0.4850\n",
      "Epoch 43/300\n",
      "\u001b[1m60/60\u001b[0m \u001b[32m━━━━━━━━━━━━━━━━━━━━\u001b[0m\u001b[37m\u001b[0m \u001b[1m1s\u001b[0m 10ms/step - accuracy: 0.7844 - loss: 0.4553 - val_accuracy: 0.8020 - val_loss: 0.4678\n",
      "Epoch 44/300\n",
      "\u001b[1m60/60\u001b[0m \u001b[32m━━━━━━━━━━━━━━━━━━━━\u001b[0m\u001b[37m\u001b[0m \u001b[1m1s\u001b[0m 10ms/step - accuracy: 0.7943 - loss: 0.4440 - val_accuracy: 0.8353 - val_loss: 0.4377\n",
      "Epoch 45/300\n",
      "\u001b[1m60/60\u001b[0m \u001b[32m━━━━━━━━━━━━━━━━━━━━\u001b[0m\u001b[37m\u001b[0m \u001b[1m1s\u001b[0m 9ms/step - accuracy: 0.7991 - loss: 0.4351 - val_accuracy: 0.8527 - val_loss: 0.4167\n",
      "Epoch 46/300\n",
      "\u001b[1m60/60\u001b[0m \u001b[32m━━━━━━━━━━━━━━━━━━━━\u001b[0m\u001b[37m\u001b[0m \u001b[1m1s\u001b[0m 9ms/step - accuracy: 0.8103 - loss: 0.4165 - val_accuracy: 0.8369 - val_loss: 0.4153\n",
      "Epoch 47/300\n",
      "\u001b[1m60/60\u001b[0m \u001b[32m━━━━━━━━━━━━━━━━━━━━\u001b[0m\u001b[37m\u001b[0m \u001b[1m1s\u001b[0m 9ms/step - accuracy: 0.8233 - loss: 0.3957 - val_accuracy: 0.8654 - val_loss: 0.3819\n",
      "Epoch 48/300\n",
      "\u001b[1m60/60\u001b[0m \u001b[32m━━━━━━━━━━━━━━━━━━━━\u001b[0m\u001b[37m\u001b[0m \u001b[1m1s\u001b[0m 9ms/step - accuracy: 0.8319 - loss: 0.3760 - val_accuracy: 0.8601 - val_loss: 0.3683\n",
      "Epoch 49/300\n",
      "\u001b[1m60/60\u001b[0m \u001b[32m━━━━━━━━━━━━━━━━━━━━\u001b[0m\u001b[37m\u001b[0m \u001b[1m1s\u001b[0m 9ms/step - accuracy: 0.8354 - loss: 0.3747 - val_accuracy: 0.8849 - val_loss: 0.3349\n",
      "Epoch 50/300\n",
      "\u001b[1m60/60\u001b[0m \u001b[32m━━━━━━━━━━━━━━━━━━━━\u001b[0m\u001b[37m\u001b[0m \u001b[1m1s\u001b[0m 9ms/step - accuracy: 0.8476 - loss: 0.3643 - val_accuracy: 0.8817 - val_loss: 0.3180\n",
      "Epoch 51/300\n",
      "\u001b[1m60/60\u001b[0m \u001b[32m━━━━━━━━━━━━━━━━━━━━\u001b[0m\u001b[37m\u001b[0m \u001b[1m1s\u001b[0m 10ms/step - accuracy: 0.8518 - loss: 0.3572 - val_accuracy: 0.8833 - val_loss: 0.3174\n",
      "Epoch 52/300\n",
      "\u001b[1m60/60\u001b[0m \u001b[32m━━━━━━━━━━━━━━━━━━━━\u001b[0m\u001b[37m\u001b[0m \u001b[1m1s\u001b[0m 9ms/step - accuracy: 0.8532 - loss: 0.3344 - val_accuracy: 0.8891 - val_loss: 0.2877\n",
      "Epoch 53/300\n",
      "\u001b[1m60/60\u001b[0m \u001b[32m━━━━━━━━━━━━━━━━━━━━\u001b[0m\u001b[37m\u001b[0m \u001b[1m1s\u001b[0m 10ms/step - accuracy: 0.8619 - loss: 0.3244 - val_accuracy: 0.8870 - val_loss: 0.2808\n",
      "Epoch 54/300\n",
      "\u001b[1m60/60\u001b[0m \u001b[32m━━━━━━━━━━━━━━━━━━━━\u001b[0m\u001b[37m\u001b[0m \u001b[1m1s\u001b[0m 9ms/step - accuracy: 0.8722 - loss: 0.3082 - val_accuracy: 0.8886 - val_loss: 0.2851\n",
      "Epoch 55/300\n",
      "\u001b[1m60/60\u001b[0m \u001b[32m━━━━━━━━━━━━━━━━━━━━\u001b[0m\u001b[37m\u001b[0m \u001b[1m1s\u001b[0m 11ms/step - accuracy: 0.8692 - loss: 0.3001 - val_accuracy: 0.8992 - val_loss: 0.2561\n",
      "Epoch 56/300\n",
      "\u001b[1m60/60\u001b[0m \u001b[32m━━━━━━━━━━━━━━━━━━━━\u001b[0m\u001b[37m\u001b[0m \u001b[1m1s\u001b[0m 10ms/step - accuracy: 0.8727 - loss: 0.2968 - val_accuracy: 0.8976 - val_loss: 0.2535\n",
      "Epoch 57/300\n",
      "\u001b[1m60/60\u001b[0m \u001b[32m━━━━━━━━━━━━━━━━━━━━\u001b[0m\u001b[37m\u001b[0m \u001b[1m1s\u001b[0m 9ms/step - accuracy: 0.8767 - loss: 0.2819 - val_accuracy: 0.9007 - val_loss: 0.2395\n",
      "Epoch 58/300\n",
      "\u001b[1m60/60\u001b[0m \u001b[32m━━━━━━━━━━━━━━━━━━━━\u001b[0m\u001b[37m\u001b[0m \u001b[1m1s\u001b[0m 10ms/step - accuracy: 0.8772 - loss: 0.2845 - val_accuracy: 0.8944 - val_loss: 0.2736\n",
      "Epoch 59/300\n",
      "\u001b[1m60/60\u001b[0m \u001b[32m━━━━━━━━━━━━━━━━━━━━\u001b[0m\u001b[37m\u001b[0m \u001b[1m1s\u001b[0m 9ms/step - accuracy: 0.8764 - loss: 0.2849 - val_accuracy: 0.9018 - val_loss: 0.2519\n",
      "Epoch 60/300\n",
      "\u001b[1m60/60\u001b[0m \u001b[32m━━━━━━━━━━━━━━━━━━━━\u001b[0m\u001b[37m\u001b[0m \u001b[1m1s\u001b[0m 9ms/step - accuracy: 0.8827 - loss: 0.2765 - val_accuracy: 0.8933 - val_loss: 0.2475\n",
      "Epoch 61/300\n",
      "\u001b[1m60/60\u001b[0m \u001b[32m━━━━━━━━━━━━━━━━━━━━\u001b[0m\u001b[37m\u001b[0m \u001b[1m1s\u001b[0m 9ms/step - accuracy: 0.8838 - loss: 0.2633 - val_accuracy: 0.9039 - val_loss: 0.2358\n",
      "Epoch 62/300\n",
      "\u001b[1m60/60\u001b[0m \u001b[32m━━━━━━━━━━━━━━━━━━━━\u001b[0m\u001b[37m\u001b[0m \u001b[1m1s\u001b[0m 10ms/step - accuracy: 0.8865 - loss: 0.2578 - val_accuracy: 0.8881 - val_loss: 0.2692\n",
      "Epoch 63/300\n",
      "\u001b[1m60/60\u001b[0m \u001b[32m━━━━━━━━━━━━━━━━━━━━\u001b[0m\u001b[37m\u001b[0m \u001b[1m1s\u001b[0m 11ms/step - accuracy: 0.8969 - loss: 0.2502 - val_accuracy: 0.8997 - val_loss: 0.2406\n",
      "Epoch 64/300\n",
      "\u001b[1m60/60\u001b[0m \u001b[32m━━━━━━━━━━━━━━━━━━━━\u001b[0m\u001b[37m\u001b[0m \u001b[1m1s\u001b[0m 10ms/step - accuracy: 0.8903 - loss: 0.2543 - val_accuracy: 0.8965 - val_loss: 0.2449\n",
      "Epoch 65/300\n",
      "\u001b[1m60/60\u001b[0m \u001b[32m━━━━━━━━━━━━━━━━━━━━\u001b[0m\u001b[37m\u001b[0m \u001b[1m1s\u001b[0m 9ms/step - accuracy: 0.8981 - loss: 0.2455 - val_accuracy: 0.9076 - val_loss: 0.2227\n",
      "Epoch 66/300\n",
      "\u001b[1m60/60\u001b[0m \u001b[32m━━━━━━━━━━━━━━━━━━━━\u001b[0m\u001b[37m\u001b[0m \u001b[1m1s\u001b[0m 10ms/step - accuracy: 0.8910 - loss: 0.2528 - val_accuracy: 0.9081 - val_loss: 0.2313\n",
      "Epoch 67/300\n",
      "\u001b[1m60/60\u001b[0m \u001b[32m━━━━━━━━━━━━━━━━━━━━\u001b[0m\u001b[37m\u001b[0m \u001b[1m1s\u001b[0m 10ms/step - accuracy: 0.8988 - loss: 0.2438 - val_accuracy: 0.9065 - val_loss: 0.2192\n",
      "Epoch 68/300\n",
      "\u001b[1m60/60\u001b[0m \u001b[32m━━━━━━━━━━━━━━━━━━━━\u001b[0m\u001b[37m\u001b[0m \u001b[1m1s\u001b[0m 9ms/step - accuracy: 0.8908 - loss: 0.2523 - val_accuracy: 0.9013 - val_loss: 0.2350\n",
      "Epoch 69/300\n",
      "\u001b[1m60/60\u001b[0m \u001b[32m━━━━━━━━━━━━━━━━━━━━\u001b[0m\u001b[37m\u001b[0m \u001b[1m1s\u001b[0m 9ms/step - accuracy: 0.9008 - loss: 0.2271 - val_accuracy: 0.8997 - val_loss: 0.2340\n",
      "Epoch 70/300\n",
      "\u001b[1m60/60\u001b[0m \u001b[32m━━━━━━━━━━━━━━━━━━━━\u001b[0m\u001b[37m\u001b[0m \u001b[1m1s\u001b[0m 9ms/step - accuracy: 0.9068 - loss: 0.2303 - val_accuracy: 0.9065 - val_loss: 0.2299\n",
      "Epoch 71/300\n",
      "\u001b[1m60/60\u001b[0m \u001b[32m━━━━━━━━━━━━━━━━━━━━\u001b[0m\u001b[37m\u001b[0m \u001b[1m1s\u001b[0m 10ms/step - accuracy: 0.9000 - loss: 0.2325 - val_accuracy: 0.9092 - val_loss: 0.2192\n",
      "Epoch 72/300\n",
      "\u001b[1m60/60\u001b[0m \u001b[32m━━━━━━━━━━━━━━━━━━━━\u001b[0m\u001b[37m\u001b[0m \u001b[1m1s\u001b[0m 10ms/step - accuracy: 0.8999 - loss: 0.2313 - val_accuracy: 0.8933 - val_loss: 0.2445\n",
      "Epoch 73/300\n",
      "\u001b[1m60/60\u001b[0m \u001b[32m━━━━━━━━━━━━━━━━━━━━\u001b[0m\u001b[37m\u001b[0m \u001b[1m1s\u001b[0m 10ms/step - accuracy: 0.8997 - loss: 0.2337 - val_accuracy: 0.8891 - val_loss: 0.2552\n",
      "Epoch 74/300\n",
      "\u001b[1m60/60\u001b[0m \u001b[32m━━━━━━━━━━━━━━━━━━━━\u001b[0m\u001b[37m\u001b[0m \u001b[1m1s\u001b[0m 10ms/step - accuracy: 0.9058 - loss: 0.2293 - val_accuracy: 0.9013 - val_loss: 0.2420\n",
      "Epoch 75/300\n",
      "\u001b[1m60/60\u001b[0m \u001b[32m━━━━━━━━━━━━━━━━━━━━\u001b[0m\u001b[37m\u001b[0m \u001b[1m1s\u001b[0m 10ms/step - accuracy: 0.8961 - loss: 0.2400 - val_accuracy: 0.8918 - val_loss: 0.2532\n",
      "Epoch 76/300\n",
      "\u001b[1m60/60\u001b[0m \u001b[32m━━━━━━━━━━━━━━━━━━━━\u001b[0m\u001b[37m\u001b[0m \u001b[1m1s\u001b[0m 10ms/step - accuracy: 0.9129 - loss: 0.2169 - val_accuracy: 0.9145 - val_loss: 0.2151\n",
      "Epoch 77/300\n",
      "\u001b[1m60/60\u001b[0m \u001b[32m━━━━━━━━━━━━━━━━━━━━\u001b[0m\u001b[37m\u001b[0m \u001b[1m1s\u001b[0m 11ms/step - accuracy: 0.9102 - loss: 0.2154 - val_accuracy: 0.8775 - val_loss: 0.2801\n",
      "Epoch 78/300\n",
      "\u001b[1m60/60\u001b[0m \u001b[32m━━━━━━━━━━━━━━━━━━━━\u001b[0m\u001b[37m\u001b[0m \u001b[1m1s\u001b[0m 9ms/step - accuracy: 0.9108 - loss: 0.2185 - val_accuracy: 0.8918 - val_loss: 0.2558\n",
      "Epoch 79/300\n",
      "\u001b[1m60/60\u001b[0m \u001b[32m━━━━━━━━━━━━━━━━━━━━\u001b[0m\u001b[37m\u001b[0m \u001b[1m1s\u001b[0m 9ms/step - accuracy: 0.9100 - loss: 0.2219 - val_accuracy: 0.9129 - val_loss: 0.2168\n",
      "Epoch 80/300\n",
      "\u001b[1m60/60\u001b[0m \u001b[32m━━━━━━━━━━━━━━━━━━━━\u001b[0m\u001b[37m\u001b[0m \u001b[1m1s\u001b[0m 10ms/step - accuracy: 0.9190 - loss: 0.2063 - val_accuracy: 0.9065 - val_loss: 0.2294\n",
      "Epoch 81/300\n",
      "\u001b[1m60/60\u001b[0m \u001b[32m━━━━━━━━━━━━━━━━━━━━\u001b[0m\u001b[37m\u001b[0m \u001b[1m1s\u001b[0m 10ms/step - accuracy: 0.9128 - loss: 0.2045 - val_accuracy: 0.9055 - val_loss: 0.2355\n",
      "Epoch 82/300\n",
      "\u001b[1m60/60\u001b[0m \u001b[32m━━━━━━━━━━━━━━━━━━━━\u001b[0m\u001b[37m\u001b[0m \u001b[1m1s\u001b[0m 10ms/step - accuracy: 0.9149 - loss: 0.2111 - val_accuracy: 0.9187 - val_loss: 0.2008\n",
      "Epoch 83/300\n",
      "\u001b[1m60/60\u001b[0m \u001b[32m━━━━━━━━━━━━━━━━━━━━\u001b[0m\u001b[37m\u001b[0m \u001b[1m1s\u001b[0m 11ms/step - accuracy: 0.9132 - loss: 0.2084 - val_accuracy: 0.8997 - val_loss: 0.2290\n",
      "Epoch 84/300\n",
      "\u001b[1m60/60\u001b[0m \u001b[32m━━━━━━━━━━━━━━━━━━━━\u001b[0m\u001b[37m\u001b[0m \u001b[1m1s\u001b[0m 10ms/step - accuracy: 0.9115 - loss: 0.2057 - val_accuracy: 0.9213 - val_loss: 0.2022\n",
      "Epoch 85/300\n",
      "\u001b[1m60/60\u001b[0m \u001b[32m━━━━━━━━━━━━━━━━━━━━\u001b[0m\u001b[37m\u001b[0m \u001b[1m1s\u001b[0m 10ms/step - accuracy: 0.9203 - loss: 0.1900 - val_accuracy: 0.9213 - val_loss: 0.1947\n",
      "Epoch 86/300\n",
      "\u001b[1m60/60\u001b[0m \u001b[32m━━━━━━━━━━━━━━━━━━━━\u001b[0m\u001b[37m\u001b[0m \u001b[1m1s\u001b[0m 9ms/step - accuracy: 0.9259 - loss: 0.1910 - val_accuracy: 0.9060 - val_loss: 0.2198\n",
      "Epoch 87/300\n",
      "\u001b[1m60/60\u001b[0m \u001b[32m━━━━━━━━━━━━━━━━━━━━\u001b[0m\u001b[37m\u001b[0m \u001b[1m1s\u001b[0m 9ms/step - accuracy: 0.9259 - loss: 0.1915 - val_accuracy: 0.9139 - val_loss: 0.2149\n",
      "Epoch 88/300\n",
      "\u001b[1m60/60\u001b[0m \u001b[32m━━━━━━━━━━━━━━━━━━━━\u001b[0m\u001b[37m\u001b[0m \u001b[1m1s\u001b[0m 9ms/step - accuracy: 0.9183 - loss: 0.1962 - val_accuracy: 0.9166 - val_loss: 0.2071\n",
      "Epoch 89/300\n",
      "\u001b[1m60/60\u001b[0m \u001b[32m━━━━━━━━━━━━━━━━━━━━\u001b[0m\u001b[37m\u001b[0m \u001b[1m1s\u001b[0m 10ms/step - accuracy: 0.9222 - loss: 0.1857 - val_accuracy: 0.9176 - val_loss: 0.2163\n",
      "Epoch 90/300\n",
      "\u001b[1m60/60\u001b[0m \u001b[32m━━━━━━━━━━━━━━━━━━━━\u001b[0m\u001b[37m\u001b[0m \u001b[1m1s\u001b[0m 10ms/step - accuracy: 0.9146 - loss: 0.2027 - val_accuracy: 0.9002 - val_loss: 0.2319\n",
      "Epoch 91/300\n",
      "\u001b[1m60/60\u001b[0m \u001b[32m━━━━━━━━━━━━━━━━━━━━\u001b[0m\u001b[37m\u001b[0m \u001b[1m1s\u001b[0m 10ms/step - accuracy: 0.9284 - loss: 0.1804 - val_accuracy: 0.8875 - val_loss: 0.2748\n",
      "Epoch 92/300\n",
      "\u001b[1m60/60\u001b[0m \u001b[32m━━━━━━━━━━━━━━━━━━━━\u001b[0m\u001b[37m\u001b[0m \u001b[1m1s\u001b[0m 11ms/step - accuracy: 0.9284 - loss: 0.1812 - val_accuracy: 0.9023 - val_loss: 0.2342\n",
      "Epoch 93/300\n",
      "\u001b[1m60/60\u001b[0m \u001b[32m━━━━━━━━━━━━━━━━━━━━\u001b[0m\u001b[37m\u001b[0m \u001b[1m1s\u001b[0m 10ms/step - accuracy: 0.9231 - loss: 0.1900 - val_accuracy: 0.8717 - val_loss: 0.3121\n",
      "Epoch 94/300\n",
      "\u001b[1m60/60\u001b[0m \u001b[32m━━━━━━━━━━━━━━━━━━━━\u001b[0m\u001b[37m\u001b[0m \u001b[1m1s\u001b[0m 9ms/step - accuracy: 0.9261 - loss: 0.1829 - val_accuracy: 0.9076 - val_loss: 0.2268\n",
      "Epoch 95/300\n",
      "\u001b[1m60/60\u001b[0m \u001b[32m━━━━━━━━━━━━━━━━━━━━\u001b[0m\u001b[37m\u001b[0m \u001b[1m1s\u001b[0m 9ms/step - accuracy: 0.9327 - loss: 0.1732 - val_accuracy: 0.9050 - val_loss: 0.2305\n",
      "Epoch 96/300\n",
      "\u001b[1m60/60\u001b[0m \u001b[32m━━━━━━━━━━━━━━━━━━━━\u001b[0m\u001b[37m\u001b[0m \u001b[1m1s\u001b[0m 9ms/step - accuracy: 0.9269 - loss: 0.1796 - val_accuracy: 0.8981 - val_loss: 0.2492\n",
      "Epoch 97/300\n",
      "\u001b[1m60/60\u001b[0m \u001b[32m━━━━━━━━━━━━━━━━━━━━\u001b[0m\u001b[37m\u001b[0m \u001b[1m1s\u001b[0m 9ms/step - accuracy: 0.9342 - loss: 0.1751 - val_accuracy: 0.9124 - val_loss: 0.2193\n",
      "Epoch 98/300\n",
      "\u001b[1m60/60\u001b[0m \u001b[32m━━━━━━━━━━━━━━━━━━━━\u001b[0m\u001b[37m\u001b[0m \u001b[1m1s\u001b[0m 9ms/step - accuracy: 0.9266 - loss: 0.1827 - val_accuracy: 0.9182 - val_loss: 0.2131\n",
      "Epoch 99/300\n",
      "\u001b[1m60/60\u001b[0m \u001b[32m━━━━━━━━━━━━━━━━━━━━\u001b[0m\u001b[37m\u001b[0m \u001b[1m1s\u001b[0m 9ms/step - accuracy: 0.9222 - loss: 0.1872 - val_accuracy: 0.8955 - val_loss: 0.2681\n",
      "Epoch 100/300\n",
      "\u001b[1m60/60\u001b[0m \u001b[32m━━━━━━━━━━━━━━━━━━━━\u001b[0m\u001b[37m\u001b[0m \u001b[1m1s\u001b[0m 9ms/step - accuracy: 0.9294 - loss: 0.1834 - val_accuracy: 0.9150 - val_loss: 0.2133\n",
      "Epoch 101/300\n",
      "\u001b[1m60/60\u001b[0m \u001b[32m━━━━━━━━━━━━━━━━━━━━\u001b[0m\u001b[37m\u001b[0m \u001b[1m1s\u001b[0m 9ms/step - accuracy: 0.9309 - loss: 0.1746 - val_accuracy: 0.9134 - val_loss: 0.2259\n",
      "Epoch 102/300\n",
      "\u001b[1m60/60\u001b[0m \u001b[32m━━━━━━━━━━━━━━━━━━━━\u001b[0m\u001b[37m\u001b[0m \u001b[1m1s\u001b[0m 10ms/step - accuracy: 0.9279 - loss: 0.1784 - val_accuracy: 0.9187 - val_loss: 0.2031\n",
      "Epoch 103/300\n",
      "\u001b[1m60/60\u001b[0m \u001b[32m━━━━━━━━━━━━━━━━━━━━\u001b[0m\u001b[37m\u001b[0m \u001b[1m1s\u001b[0m 9ms/step - accuracy: 0.9194 - loss: 0.1828 - val_accuracy: 0.8754 - val_loss: 0.3137\n",
      "Epoch 104/300\n",
      "\u001b[1m60/60\u001b[0m \u001b[32m━━━━━━━━━━━━━━━━━━━━\u001b[0m\u001b[37m\u001b[0m \u001b[1m1s\u001b[0m 11ms/step - accuracy: 0.9234 - loss: 0.1823 - val_accuracy: 0.9171 - val_loss: 0.2120\n",
      "Epoch 105/300\n",
      "\u001b[1m60/60\u001b[0m \u001b[32m━━━━━━━━━━━━━━━━━━━━\u001b[0m\u001b[37m\u001b[0m \u001b[1m1s\u001b[0m 10ms/step - accuracy: 0.9301 - loss: 0.1764 - val_accuracy: 0.9081 - val_loss: 0.2425\n",
      "Epoch 106/300\n",
      "\u001b[1m60/60\u001b[0m \u001b[32m━━━━━━━━━━━━━━━━━━━━\u001b[0m\u001b[37m\u001b[0m \u001b[1m1s\u001b[0m 10ms/step - accuracy: 0.9303 - loss: 0.1705 - val_accuracy: 0.9050 - val_loss: 0.2345\n",
      "Epoch 107/300\n",
      "\u001b[1m60/60\u001b[0m \u001b[32m━━━━━━━━━━━━━━━━━━━━\u001b[0m\u001b[37m\u001b[0m \u001b[1m1s\u001b[0m 10ms/step - accuracy: 0.9302 - loss: 0.1674 - val_accuracy: 0.9065 - val_loss: 0.2387\n",
      "Epoch 108/300\n",
      "\u001b[1m60/60\u001b[0m \u001b[32m━━━━━━━━━━━━━━━━━━━━\u001b[0m\u001b[37m\u001b[0m \u001b[1m1s\u001b[0m 11ms/step - accuracy: 0.9365 - loss: 0.1632 - val_accuracy: 0.9018 - val_loss: 0.2442\n",
      "Epoch 109/300\n",
      "\u001b[1m60/60\u001b[0m \u001b[32m━━━━━━━━━━━━━━━━━━━━\u001b[0m\u001b[37m\u001b[0m \u001b[1m1s\u001b[0m 10ms/step - accuracy: 0.9384 - loss: 0.1624 - val_accuracy: 0.9113 - val_loss: 0.2302\n",
      "Epoch 110/300\n",
      "\u001b[1m60/60\u001b[0m \u001b[32m━━━━━━━━━━━━━━━━━━━━\u001b[0m\u001b[37m\u001b[0m \u001b[1m1s\u001b[0m 10ms/step - accuracy: 0.9398 - loss: 0.1575 - val_accuracy: 0.8997 - val_loss: 0.2554\n",
      "Epoch 111/300\n",
      "\u001b[1m60/60\u001b[0m \u001b[32m━━━━━━━━━━━━━━━━━━━━\u001b[0m\u001b[37m\u001b[0m \u001b[1m1s\u001b[0m 11ms/step - accuracy: 0.9346 - loss: 0.1642 - val_accuracy: 0.9282 - val_loss: 0.1941\n",
      "Epoch 112/300\n",
      "\u001b[1m60/60\u001b[0m \u001b[32m━━━━━━━━━━━━━━━━━━━━\u001b[0m\u001b[37m\u001b[0m \u001b[1m1s\u001b[0m 11ms/step - accuracy: 0.9323 - loss: 0.1733 - val_accuracy: 0.9097 - val_loss: 0.2229\n",
      "Epoch 113/300\n",
      "\u001b[1m60/60\u001b[0m \u001b[32m━━━━━━━━━━━━━━━━━━━━\u001b[0m\u001b[37m\u001b[0m \u001b[1m1s\u001b[0m 10ms/step - accuracy: 0.9370 - loss: 0.1562 - val_accuracy: 0.9150 - val_loss: 0.2160\n",
      "Epoch 114/300\n",
      "\u001b[1m60/60\u001b[0m \u001b[32m━━━━━━━━━━━━━━━━━━━━\u001b[0m\u001b[37m\u001b[0m \u001b[1m1s\u001b[0m 10ms/step - accuracy: 0.9341 - loss: 0.1679 - val_accuracy: 0.9219 - val_loss: 0.2072\n",
      "Epoch 115/300\n",
      "\u001b[1m60/60\u001b[0m \u001b[32m━━━━━━━━━━━━━━━━━━━━\u001b[0m\u001b[37m\u001b[0m \u001b[1m1s\u001b[0m 11ms/step - accuracy: 0.9356 - loss: 0.1655 - val_accuracy: 0.8923 - val_loss: 0.2651\n",
      "Epoch 116/300\n",
      "\u001b[1m60/60\u001b[0m \u001b[32m━━━━━━━━━━━━━━━━━━━━\u001b[0m\u001b[37m\u001b[0m \u001b[1m1s\u001b[0m 10ms/step - accuracy: 0.9404 - loss: 0.1543 - val_accuracy: 0.9129 - val_loss: 0.2093\n",
      "Epoch 117/300\n",
      "\u001b[1m60/60\u001b[0m \u001b[32m━━━━━━━━━━━━━━━━━━━━\u001b[0m\u001b[37m\u001b[0m \u001b[1m1s\u001b[0m 9ms/step - accuracy: 0.9384 - loss: 0.1585 - val_accuracy: 0.9176 - val_loss: 0.2131\n",
      "Epoch 118/300\n",
      "\u001b[1m60/60\u001b[0m \u001b[32m━━━━━━━━━━━━━━━━━━━━\u001b[0m\u001b[37m\u001b[0m \u001b[1m1s\u001b[0m 9ms/step - accuracy: 0.9364 - loss: 0.1590 - val_accuracy: 0.9092 - val_loss: 0.2190\n",
      "Epoch 119/300\n",
      "\u001b[1m60/60\u001b[0m \u001b[32m━━━━━━━━━━━━━━━━━━━━\u001b[0m\u001b[37m\u001b[0m \u001b[1m1s\u001b[0m 10ms/step - accuracy: 0.9351 - loss: 0.1612 - val_accuracy: 0.9065 - val_loss: 0.2377\n",
      "Epoch 120/300\n",
      "\u001b[1m60/60\u001b[0m \u001b[32m━━━━━━━━━━━━━━━━━━━━\u001b[0m\u001b[37m\u001b[0m \u001b[1m1s\u001b[0m 10ms/step - accuracy: 0.9384 - loss: 0.1582 - val_accuracy: 0.8960 - val_loss: 0.2666\n",
      "Epoch 121/300\n",
      "\u001b[1m60/60\u001b[0m \u001b[32m━━━━━━━━━━━━━━━━━━━━\u001b[0m\u001b[37m\u001b[0m \u001b[1m1s\u001b[0m 11ms/step - accuracy: 0.9395 - loss: 0.1538 - val_accuracy: 0.9092 - val_loss: 0.2481\n",
      "Epoch 122/300\n",
      "\u001b[1m60/60\u001b[0m \u001b[32m━━━━━━━━━━━━━━━━━━━━\u001b[0m\u001b[37m\u001b[0m \u001b[1m1s\u001b[0m 10ms/step - accuracy: 0.9374 - loss: 0.1591 - val_accuracy: 0.9076 - val_loss: 0.2490\n",
      "Epoch 123/300\n",
      "\u001b[1m60/60\u001b[0m \u001b[32m━━━━━━━━━━━━━━━━━━━━\u001b[0m\u001b[37m\u001b[0m \u001b[1m1s\u001b[0m 9ms/step - accuracy: 0.9351 - loss: 0.1643 - val_accuracy: 0.9203 - val_loss: 0.2005\n",
      "Epoch 124/300\n",
      "\u001b[1m60/60\u001b[0m \u001b[32m━━━━━━━━━━━━━━━━━━━━\u001b[0m\u001b[37m\u001b[0m \u001b[1m1s\u001b[0m 10ms/step - accuracy: 0.9363 - loss: 0.1626 - val_accuracy: 0.9150 - val_loss: 0.2242\n",
      "Epoch 125/300\n",
      "\u001b[1m60/60\u001b[0m \u001b[32m━━━━━━━━━━━━━━━━━━━━\u001b[0m\u001b[37m\u001b[0m \u001b[1m1s\u001b[0m 11ms/step - accuracy: 0.9402 - loss: 0.1533 - val_accuracy: 0.9277 - val_loss: 0.1969\n",
      "Epoch 126/300\n",
      "\u001b[1m60/60\u001b[0m \u001b[32m━━━━━━━━━━━━━━━━━━━━\u001b[0m\u001b[37m\u001b[0m \u001b[1m1s\u001b[0m 9ms/step - accuracy: 0.9387 - loss: 0.1498 - val_accuracy: 0.8955 - val_loss: 0.2753\n",
      "Epoch 127/300\n",
      "\u001b[1m60/60\u001b[0m \u001b[32m━━━━━━━━━━━━━━━━━━━━\u001b[0m\u001b[37m\u001b[0m \u001b[1m1s\u001b[0m 10ms/step - accuracy: 0.9437 - loss: 0.1490 - val_accuracy: 0.9145 - val_loss: 0.2303\n",
      "Epoch 128/300\n",
      "\u001b[1m60/60\u001b[0m \u001b[32m━━━━━━━━━━━━━━━━━━━━\u001b[0m\u001b[37m\u001b[0m \u001b[1m1s\u001b[0m 11ms/step - accuracy: 0.9413 - loss: 0.1513 - val_accuracy: 0.9203 - val_loss: 0.2182\n",
      "Epoch 129/300\n",
      "\u001b[1m60/60\u001b[0m \u001b[32m━━━━━━━━━━━━━━━━━━━━\u001b[0m\u001b[37m\u001b[0m \u001b[1m1s\u001b[0m 10ms/step - accuracy: 0.9448 - loss: 0.1466 - val_accuracy: 0.9150 - val_loss: 0.2333\n",
      "Epoch 130/300\n",
      "\u001b[1m60/60\u001b[0m \u001b[32m━━━━━━━━━━━━━━━━━━━━\u001b[0m\u001b[37m\u001b[0m \u001b[1m1s\u001b[0m 10ms/step - accuracy: 0.9413 - loss: 0.1508 - val_accuracy: 0.9155 - val_loss: 0.2218\n",
      "Epoch 131/300\n",
      "\u001b[1m60/60\u001b[0m \u001b[32m━━━━━━━━━━━━━━━━━━━━\u001b[0m\u001b[37m\u001b[0m \u001b[1m1s\u001b[0m 11ms/step - accuracy: 0.9472 - loss: 0.1440 - val_accuracy: 0.9134 - val_loss: 0.2348\n",
      "Epoch 132/300\n",
      "\u001b[1m60/60\u001b[0m \u001b[32m━━━━━━━━━━━━━━━━━━━━\u001b[0m\u001b[37m\u001b[0m \u001b[1m1s\u001b[0m 11ms/step - accuracy: 0.9465 - loss: 0.1438 - val_accuracy: 0.9108 - val_loss: 0.2283\n",
      "Epoch 133/300\n",
      "\u001b[1m60/60\u001b[0m \u001b[32m━━━━━━━━━━━━━━━━━━━━\u001b[0m\u001b[37m\u001b[0m \u001b[1m1s\u001b[0m 9ms/step - accuracy: 0.9412 - loss: 0.1458 - val_accuracy: 0.9102 - val_loss: 0.2389\n",
      "Epoch 134/300\n",
      "\u001b[1m60/60\u001b[0m \u001b[32m━━━━━━━━━━━━━━━━━━━━\u001b[0m\u001b[37m\u001b[0m \u001b[1m1s\u001b[0m 9ms/step - accuracy: 0.9432 - loss: 0.1445 - val_accuracy: 0.8986 - val_loss: 0.2625\n",
      "Epoch 135/300\n",
      "\u001b[1m60/60\u001b[0m \u001b[32m━━━━━━━━━━━━━━━━━━━━\u001b[0m\u001b[37m\u001b[0m \u001b[1m1s\u001b[0m 9ms/step - accuracy: 0.9483 - loss: 0.1363 - val_accuracy: 0.9382 - val_loss: 0.1710\n",
      "Epoch 136/300\n",
      "\u001b[1m60/60\u001b[0m \u001b[32m━━━━━━━━━━━━━━━━━━━━\u001b[0m\u001b[37m\u001b[0m \u001b[1m1s\u001b[0m 10ms/step - accuracy: 0.9424 - loss: 0.1440 - val_accuracy: 0.9139 - val_loss: 0.2175\n",
      "Epoch 137/300\n",
      "\u001b[1m60/60\u001b[0m \u001b[32m━━━━━━━━━━━━━━━━━━━━\u001b[0m\u001b[37m\u001b[0m \u001b[1m1s\u001b[0m 9ms/step - accuracy: 0.9461 - loss: 0.1384 - val_accuracy: 0.9261 - val_loss: 0.1984\n",
      "Epoch 138/300\n",
      "\u001b[1m60/60\u001b[0m \u001b[32m━━━━━━━━━━━━━━━━━━━━\u001b[0m\u001b[37m\u001b[0m \u001b[1m1s\u001b[0m 10ms/step - accuracy: 0.9485 - loss: 0.1393 - val_accuracy: 0.9203 - val_loss: 0.1985\n",
      "Epoch 139/300\n",
      "\u001b[1m60/60\u001b[0m \u001b[32m━━━━━━━━━━━━━━━━━━━━\u001b[0m\u001b[37m\u001b[0m \u001b[1m1s\u001b[0m 11ms/step - accuracy: 0.9407 - loss: 0.1466 - val_accuracy: 0.8960 - val_loss: 0.2721\n",
      "Epoch 140/300\n",
      "\u001b[1m60/60\u001b[0m \u001b[32m━━━━━━━━━━━━━━━━━━━━\u001b[0m\u001b[37m\u001b[0m \u001b[1m1s\u001b[0m 11ms/step - accuracy: 0.9469 - loss: 0.1391 - val_accuracy: 0.8970 - val_loss: 0.2509\n",
      "Epoch 141/300\n",
      "\u001b[1m60/60\u001b[0m \u001b[32m━━━━━━━━━━━━━━━━━━━━\u001b[0m\u001b[37m\u001b[0m \u001b[1m1s\u001b[0m 10ms/step - accuracy: 0.9418 - loss: 0.1476 - val_accuracy: 0.9203 - val_loss: 0.2009\n",
      "Epoch 142/300\n",
      "\u001b[1m60/60\u001b[0m \u001b[32m━━━━━━━━━━━━━━━━━━━━\u001b[0m\u001b[37m\u001b[0m \u001b[1m1s\u001b[0m 10ms/step - accuracy: 0.9468 - loss: 0.1437 - val_accuracy: 0.9287 - val_loss: 0.1910\n",
      "Epoch 143/300\n",
      "\u001b[1m60/60\u001b[0m \u001b[32m━━━━━━━━━━━━━━━━━━━━\u001b[0m\u001b[37m\u001b[0m \u001b[1m1s\u001b[0m 10ms/step - accuracy: 0.9515 - loss: 0.1308 - val_accuracy: 0.9224 - val_loss: 0.1970\n",
      "Epoch 144/300\n",
      "\u001b[1m60/60\u001b[0m \u001b[32m━━━━━━━━━━━━━━━━━━━━\u001b[0m\u001b[37m\u001b[0m \u001b[1m1s\u001b[0m 10ms/step - accuracy: 0.9499 - loss: 0.1371 - val_accuracy: 0.8807 - val_loss: 0.3244\n",
      "Epoch 145/300\n",
      "\u001b[1m60/60\u001b[0m \u001b[32m━━━━━━━━━━━━━━━━━━━━\u001b[0m\u001b[37m\u001b[0m \u001b[1m1s\u001b[0m 9ms/step - accuracy: 0.9418 - loss: 0.1478 - val_accuracy: 0.9187 - val_loss: 0.2121\n",
      "Epoch 146/300\n",
      "\u001b[1m60/60\u001b[0m \u001b[32m━━━━━━━━━━━━━━━━━━━━\u001b[0m\u001b[37m\u001b[0m \u001b[1m1s\u001b[0m 9ms/step - accuracy: 0.9451 - loss: 0.1422 - val_accuracy: 0.9282 - val_loss: 0.1774\n",
      "Epoch 147/300\n",
      "\u001b[1m60/60\u001b[0m \u001b[32m━━━━━━━━━━━━━━━━━━━━\u001b[0m\u001b[37m\u001b[0m \u001b[1m1s\u001b[0m 10ms/step - accuracy: 0.9443 - loss: 0.1360 - val_accuracy: 0.8992 - val_loss: 0.2743\n",
      "Epoch 148/300\n",
      "\u001b[1m60/60\u001b[0m \u001b[32m━━━━━━━━━━━━━━━━━━━━\u001b[0m\u001b[37m\u001b[0m \u001b[1m1s\u001b[0m 10ms/step - accuracy: 0.9431 - loss: 0.1434 - val_accuracy: 0.9176 - val_loss: 0.2158\n",
      "Epoch 149/300\n",
      "\u001b[1m60/60\u001b[0m \u001b[32m━━━━━━━━━━━━━━━━━━━━\u001b[0m\u001b[37m\u001b[0m \u001b[1m1s\u001b[0m 9ms/step - accuracy: 0.9469 - loss: 0.1409 - val_accuracy: 0.9266 - val_loss: 0.1945\n",
      "Epoch 150/300\n",
      "\u001b[1m60/60\u001b[0m \u001b[32m━━━━━━━━━━━━━━━━━━━━\u001b[0m\u001b[37m\u001b[0m \u001b[1m1s\u001b[0m 9ms/step - accuracy: 0.9526 - loss: 0.1280 - val_accuracy: 0.9234 - val_loss: 0.1897\n",
      "Epoch 151/300\n",
      "\u001b[1m60/60\u001b[0m \u001b[32m━━━━━━━━━━━━━━━━━━━━\u001b[0m\u001b[37m\u001b[0m \u001b[1m1s\u001b[0m 10ms/step - accuracy: 0.9400 - loss: 0.1543 - val_accuracy: 0.9282 - val_loss: 0.1904\n",
      "Epoch 152/300\n",
      "\u001b[1m60/60\u001b[0m \u001b[32m━━━━━━━━━━━━━━━━━━━━\u001b[0m\u001b[37m\u001b[0m \u001b[1m1s\u001b[0m 9ms/step - accuracy: 0.9510 - loss: 0.1348 - val_accuracy: 0.9134 - val_loss: 0.2205\n",
      "Epoch 153/300\n",
      "\u001b[1m60/60\u001b[0m \u001b[32m━━━━━━━━━━━━━━━━━━━━\u001b[0m\u001b[37m\u001b[0m \u001b[1m1s\u001b[0m 9ms/step - accuracy: 0.9442 - loss: 0.1366 - val_accuracy: 0.9329 - val_loss: 0.1696\n",
      "Epoch 154/300\n",
      "\u001b[1m60/60\u001b[0m \u001b[32m━━━━━━━━━━━━━━━━━━━━\u001b[0m\u001b[37m\u001b[0m \u001b[1m1s\u001b[0m 10ms/step - accuracy: 0.9506 - loss: 0.1318 - val_accuracy: 0.9419 - val_loss: 0.1552\n",
      "Epoch 155/300\n",
      "\u001b[1m60/60\u001b[0m \u001b[32m━━━━━━━━━━━━━━━━━━━━\u001b[0m\u001b[37m\u001b[0m \u001b[1m1s\u001b[0m 9ms/step - accuracy: 0.9525 - loss: 0.1307 - val_accuracy: 0.9192 - val_loss: 0.2100\n",
      "Epoch 156/300\n",
      "\u001b[1m60/60\u001b[0m \u001b[32m━━━━━━━━━━━━━━━━━━━━\u001b[0m\u001b[37m\u001b[0m \u001b[1m1s\u001b[0m 10ms/step - accuracy: 0.9502 - loss: 0.1315 - val_accuracy: 0.9388 - val_loss: 0.1635\n",
      "Epoch 157/300\n",
      "\u001b[1m60/60\u001b[0m \u001b[32m━━━━━━━━━━━━━━━━━━━━\u001b[0m\u001b[37m\u001b[0m \u001b[1m1s\u001b[0m 9ms/step - accuracy: 0.9510 - loss: 0.1295 - val_accuracy: 0.9256 - val_loss: 0.1927\n",
      "Epoch 158/300\n",
      "\u001b[1m60/60\u001b[0m \u001b[32m━━━━━━━━━━━━━━━━━━━━\u001b[0m\u001b[37m\u001b[0m \u001b[1m1s\u001b[0m 9ms/step - accuracy: 0.9517 - loss: 0.1288 - val_accuracy: 0.9124 - val_loss: 0.2299\n",
      "Epoch 159/300\n",
      "\u001b[1m60/60\u001b[0m \u001b[32m━━━━━━━━━━━━━━━━━━━━\u001b[0m\u001b[37m\u001b[0m \u001b[1m1s\u001b[0m 10ms/step - accuracy: 0.9499 - loss: 0.1368 - val_accuracy: 0.9229 - val_loss: 0.1958\n",
      "Epoch 160/300\n",
      "\u001b[1m60/60\u001b[0m \u001b[32m━━━━━━━━━━━━━━━━━━━━\u001b[0m\u001b[37m\u001b[0m \u001b[1m1s\u001b[0m 11ms/step - accuracy: 0.9515 - loss: 0.1273 - val_accuracy: 0.9388 - val_loss: 0.1675\n",
      "Epoch 161/300\n",
      "\u001b[1m60/60\u001b[0m \u001b[32m━━━━━━━━━━━━━━━━━━━━\u001b[0m\u001b[37m\u001b[0m \u001b[1m1s\u001b[0m 9ms/step - accuracy: 0.9538 - loss: 0.1268 - val_accuracy: 0.9298 - val_loss: 0.1821\n",
      "Epoch 162/300\n",
      "\u001b[1m60/60\u001b[0m \u001b[32m━━━━━━━━━━━━━━━━━━━━\u001b[0m\u001b[37m\u001b[0m \u001b[1m1s\u001b[0m 10ms/step - accuracy: 0.9452 - loss: 0.1393 - val_accuracy: 0.9060 - val_loss: 0.2367\n",
      "Epoch 163/300\n",
      "\u001b[1m60/60\u001b[0m \u001b[32m━━━━━━━━━━━━━━━━━━━━\u001b[0m\u001b[37m\u001b[0m \u001b[1m1s\u001b[0m 10ms/step - accuracy: 0.9505 - loss: 0.1320 - val_accuracy: 0.9250 - val_loss: 0.1825\n",
      "Epoch 164/300\n",
      "\u001b[1m60/60\u001b[0m \u001b[32m━━━━━━━━━━━━━━━━━━━━\u001b[0m\u001b[37m\u001b[0m \u001b[1m1s\u001b[0m 10ms/step - accuracy: 0.9504 - loss: 0.1315 - val_accuracy: 0.9335 - val_loss: 0.1762\n",
      "Epoch 165/300\n",
      "\u001b[1m60/60\u001b[0m \u001b[32m━━━━━━━━━━━━━━━━━━━━\u001b[0m\u001b[37m\u001b[0m \u001b[1m1s\u001b[0m 9ms/step - accuracy: 0.9509 - loss: 0.1269 - val_accuracy: 0.9187 - val_loss: 0.1972\n",
      "Epoch 166/300\n",
      "\u001b[1m60/60\u001b[0m \u001b[32m━━━━━━━━━━━━━━━━━━━━\u001b[0m\u001b[37m\u001b[0m \u001b[1m1s\u001b[0m 9ms/step - accuracy: 0.9534 - loss: 0.1231 - val_accuracy: 0.9509 - val_loss: 0.1430\n",
      "Epoch 167/300\n",
      "\u001b[1m60/60\u001b[0m \u001b[32m━━━━━━━━━━━━━━━━━━━━\u001b[0m\u001b[37m\u001b[0m \u001b[1m1s\u001b[0m 11ms/step - accuracy: 0.9467 - loss: 0.1312 - val_accuracy: 0.9388 - val_loss: 0.1634\n",
      "Epoch 168/300\n",
      "\u001b[1m60/60\u001b[0m \u001b[32m━━━━━━━━━━━━━━━━━━━━\u001b[0m\u001b[37m\u001b[0m \u001b[1m1s\u001b[0m 11ms/step - accuracy: 0.9503 - loss: 0.1292 - val_accuracy: 0.9298 - val_loss: 0.1863\n",
      "Epoch 169/300\n",
      "\u001b[1m60/60\u001b[0m \u001b[32m━━━━━━━━━━━━━━━━━━━━\u001b[0m\u001b[37m\u001b[0m \u001b[1m1s\u001b[0m 10ms/step - accuracy: 0.9498 - loss: 0.1288 - val_accuracy: 0.9124 - val_loss: 0.2354\n",
      "Epoch 170/300\n",
      "\u001b[1m60/60\u001b[0m \u001b[32m━━━━━━━━━━━━━━━━━━━━\u001b[0m\u001b[37m\u001b[0m \u001b[1m1s\u001b[0m 10ms/step - accuracy: 0.9515 - loss: 0.1319 - val_accuracy: 0.9419 - val_loss: 0.1527\n",
      "Epoch 171/300\n",
      "\u001b[1m60/60\u001b[0m \u001b[32m━━━━━━━━━━━━━━━━━━━━\u001b[0m\u001b[37m\u001b[0m \u001b[1m1s\u001b[0m 10ms/step - accuracy: 0.9520 - loss: 0.1243 - val_accuracy: 0.9356 - val_loss: 0.1683\n",
      "Epoch 172/300\n",
      "\u001b[1m60/60\u001b[0m \u001b[32m━━━━━━━━━━━━━━━━━━━━\u001b[0m\u001b[37m\u001b[0m \u001b[1m1s\u001b[0m 10ms/step - accuracy: 0.9482 - loss: 0.1273 - val_accuracy: 0.9245 - val_loss: 0.1904\n",
      "Epoch 173/300\n",
      "\u001b[1m60/60\u001b[0m \u001b[32m━━━━━━━━━━━━━━━━━━━━\u001b[0m\u001b[37m\u001b[0m \u001b[1m1s\u001b[0m 11ms/step - accuracy: 0.9492 - loss: 0.1332 - val_accuracy: 0.9213 - val_loss: 0.1912\n",
      "Epoch 174/300\n",
      "\u001b[1m60/60\u001b[0m \u001b[32m━━━━━━━━━━━━━━━━━━━━\u001b[0m\u001b[37m\u001b[0m \u001b[1m1s\u001b[0m 9ms/step - accuracy: 0.9486 - loss: 0.1353 - val_accuracy: 0.9514 - val_loss: 0.1459\n",
      "Epoch 175/300\n",
      "\u001b[1m60/60\u001b[0m \u001b[32m━━━━━━━━━━━━━━━━━━━━\u001b[0m\u001b[37m\u001b[0m \u001b[1m1s\u001b[0m 9ms/step - accuracy: 0.9544 - loss: 0.1253 - val_accuracy: 0.9256 - val_loss: 0.1939\n",
      "Epoch 176/300\n",
      "\u001b[1m60/60\u001b[0m \u001b[32m━━━━━━━━━━━━━━━━━━━━\u001b[0m\u001b[37m\u001b[0m \u001b[1m1s\u001b[0m 10ms/step - accuracy: 0.9533 - loss: 0.1244 - val_accuracy: 0.9224 - val_loss: 0.2031\n",
      "Epoch 177/300\n",
      "\u001b[1m60/60\u001b[0m \u001b[32m━━━━━━━━━━━━━━━━━━━━\u001b[0m\u001b[37m\u001b[0m \u001b[1m1s\u001b[0m 9ms/step - accuracy: 0.9510 - loss: 0.1262 - val_accuracy: 0.9219 - val_loss: 0.1955\n",
      "Epoch 178/300\n",
      "\u001b[1m60/60\u001b[0m \u001b[32m━━━━━━━━━━━━━━━━━━━━\u001b[0m\u001b[37m\u001b[0m \u001b[1m1s\u001b[0m 9ms/step - accuracy: 0.9454 - loss: 0.1352 - val_accuracy: 0.9213 - val_loss: 0.1994\n",
      "Epoch 179/300\n",
      "\u001b[1m60/60\u001b[0m \u001b[32m━━━━━━━━━━━━━━━━━━━━\u001b[0m\u001b[37m\u001b[0m \u001b[1m1s\u001b[0m 9ms/step - accuracy: 0.9546 - loss: 0.1222 - val_accuracy: 0.9113 - val_loss: 0.2251\n",
      "Epoch 180/300\n",
      "\u001b[1m60/60\u001b[0m \u001b[32m━━━━━━━━━━━━━━━━━━━━\u001b[0m\u001b[37m\u001b[0m \u001b[1m1s\u001b[0m 10ms/step - accuracy: 0.9525 - loss: 0.1304 - val_accuracy: 0.9308 - val_loss: 0.1746\n",
      "Epoch 181/300\n",
      "\u001b[1m60/60\u001b[0m \u001b[32m━━━━━━━━━━━━━━━━━━━━\u001b[0m\u001b[37m\u001b[0m \u001b[1m1s\u001b[0m 10ms/step - accuracy: 0.9451 - loss: 0.1353 - val_accuracy: 0.9509 - val_loss: 0.1425\n",
      "Epoch 182/300\n",
      "\u001b[1m60/60\u001b[0m \u001b[32m━━━━━━━━━━━━━━━━━━━━\u001b[0m\u001b[37m\u001b[0m \u001b[1m1s\u001b[0m 8ms/step - accuracy: 0.9532 - loss: 0.1264 - val_accuracy: 0.9335 - val_loss: 0.1671\n",
      "Epoch 183/300\n",
      "\u001b[1m60/60\u001b[0m \u001b[32m━━━━━━━━━━━━━━━━━━━━\u001b[0m\u001b[37m\u001b[0m \u001b[1m1s\u001b[0m 9ms/step - accuracy: 0.9486 - loss: 0.1374 - val_accuracy: 0.9377 - val_loss: 0.1600\n",
      "Epoch 184/300\n",
      "\u001b[1m60/60\u001b[0m \u001b[32m━━━━━━━━━━━━━━━━━━━━\u001b[0m\u001b[37m\u001b[0m \u001b[1m1s\u001b[0m 8ms/step - accuracy: 0.9533 - loss: 0.1240 - val_accuracy: 0.9266 - val_loss: 0.1783\n",
      "Epoch 185/300\n",
      "\u001b[1m60/60\u001b[0m \u001b[32m━━━━━━━━━━━━━━━━━━━━\u001b[0m\u001b[37m\u001b[0m \u001b[1m1s\u001b[0m 9ms/step - accuracy: 0.9519 - loss: 0.1248 - val_accuracy: 0.9182 - val_loss: 0.2077\n",
      "Epoch 186/300\n",
      "\u001b[1m60/60\u001b[0m \u001b[32m━━━━━━━━━━━━━━━━━━━━\u001b[0m\u001b[37m\u001b[0m \u001b[1m1s\u001b[0m 9ms/step - accuracy: 0.9536 - loss: 0.1237 - val_accuracy: 0.9303 - val_loss: 0.1832\n",
      "Epoch 187/300\n",
      "\u001b[1m60/60\u001b[0m \u001b[32m━━━━━━━━━━━━━━━━━━━━\u001b[0m\u001b[37m\u001b[0m \u001b[1m1s\u001b[0m 9ms/step - accuracy: 0.9494 - loss: 0.1329 - val_accuracy: 0.9398 - val_loss: 0.1616\n",
      "Epoch 188/300\n",
      "\u001b[1m60/60\u001b[0m \u001b[32m━━━━━━━━━━━━━━━━━━━━\u001b[0m\u001b[37m\u001b[0m \u001b[1m1s\u001b[0m 9ms/step - accuracy: 0.9523 - loss: 0.1214 - val_accuracy: 0.9483 - val_loss: 0.1505\n",
      "Epoch 189/300\n",
      "\u001b[1m60/60\u001b[0m \u001b[32m━━━━━━━━━━━━━━━━━━━━\u001b[0m\u001b[37m\u001b[0m \u001b[1m1s\u001b[0m 9ms/step - accuracy: 0.9511 - loss: 0.1273 - val_accuracy: 0.9556 - val_loss: 0.1402\n",
      "Epoch 190/300\n",
      "\u001b[1m60/60\u001b[0m \u001b[32m━━━━━━━━━━━━━━━━━━━━\u001b[0m\u001b[37m\u001b[0m \u001b[1m1s\u001b[0m 9ms/step - accuracy: 0.9503 - loss: 0.1309 - val_accuracy: 0.9409 - val_loss: 0.1589\n",
      "Epoch 191/300\n",
      "\u001b[1m60/60\u001b[0m \u001b[32m━━━━━━━━━━━━━━━━━━━━\u001b[0m\u001b[37m\u001b[0m \u001b[1m1s\u001b[0m 9ms/step - accuracy: 0.9533 - loss: 0.1283 - val_accuracy: 0.9535 - val_loss: 0.1400\n",
      "Epoch 192/300\n",
      "\u001b[1m60/60\u001b[0m \u001b[32m━━━━━━━━━━━━━━━━━━━━\u001b[0m\u001b[37m\u001b[0m \u001b[1m1s\u001b[0m 9ms/step - accuracy: 0.9511 - loss: 0.1278 - val_accuracy: 0.9377 - val_loss: 0.1616\n",
      "Epoch 193/300\n",
      "\u001b[1m60/60\u001b[0m \u001b[32m━━━━━━━━━━━━━━━━━━━━\u001b[0m\u001b[37m\u001b[0m \u001b[1m1s\u001b[0m 10ms/step - accuracy: 0.9534 - loss: 0.1205 - val_accuracy: 0.9403 - val_loss: 0.1583\n",
      "Epoch 194/300\n",
      "\u001b[1m60/60\u001b[0m \u001b[32m━━━━━━━━━━━━━━━━━━━━\u001b[0m\u001b[37m\u001b[0m \u001b[1m1s\u001b[0m 9ms/step - accuracy: 0.9519 - loss: 0.1209 - val_accuracy: 0.9514 - val_loss: 0.1475\n",
      "Epoch 195/300\n",
      "\u001b[1m60/60\u001b[0m \u001b[32m━━━━━━━━━━━━━━━━━━━━\u001b[0m\u001b[37m\u001b[0m \u001b[1m1s\u001b[0m 9ms/step - accuracy: 0.9485 - loss: 0.1256 - val_accuracy: 0.9393 - val_loss: 0.1625\n",
      "Epoch 196/300\n",
      "\u001b[1m60/60\u001b[0m \u001b[32m━━━━━━━━━━━━━━━━━━━━\u001b[0m\u001b[37m\u001b[0m \u001b[1m1s\u001b[0m 9ms/step - accuracy: 0.9499 - loss: 0.1266 - val_accuracy: 0.9588 - val_loss: 0.1242\n",
      "Epoch 197/300\n",
      "\u001b[1m60/60\u001b[0m \u001b[32m━━━━━━━━━━━━━━━━━━━━\u001b[0m\u001b[37m\u001b[0m \u001b[1m1s\u001b[0m 11ms/step - accuracy: 0.9484 - loss: 0.1316 - val_accuracy: 0.9287 - val_loss: 0.1839\n",
      "Epoch 198/300\n",
      "\u001b[1m60/60\u001b[0m \u001b[32m━━━━━━━━━━━━━━━━━━━━\u001b[0m\u001b[37m\u001b[0m \u001b[1m1s\u001b[0m 10ms/step - accuracy: 0.9518 - loss: 0.1253 - val_accuracy: 0.9430 - val_loss: 0.1523\n",
      "Epoch 199/300\n",
      "\u001b[1m60/60\u001b[0m \u001b[32m━━━━━━━━━━━━━━━━━━━━\u001b[0m\u001b[37m\u001b[0m \u001b[1m1s\u001b[0m 9ms/step - accuracy: 0.9550 - loss: 0.1156 - val_accuracy: 0.9372 - val_loss: 0.1612\n",
      "Epoch 200/300\n",
      "\u001b[1m60/60\u001b[0m \u001b[32m━━━━━━━━━━━━━━━━━━━━\u001b[0m\u001b[37m\u001b[0m \u001b[1m1s\u001b[0m 9ms/step - accuracy: 0.9492 - loss: 0.1303 - val_accuracy: 0.9535 - val_loss: 0.1354\n",
      "Epoch 201/300\n",
      "\u001b[1m60/60\u001b[0m \u001b[32m━━━━━━━━━━━━━━━━━━━━\u001b[0m\u001b[37m\u001b[0m \u001b[1m1s\u001b[0m 10ms/step - accuracy: 0.9538 - loss: 0.1196 - val_accuracy: 0.9435 - val_loss: 0.1486\n",
      "Epoch 202/300\n",
      "\u001b[1m60/60\u001b[0m \u001b[32m━━━━━━━━━━━━━━━━━━━━\u001b[0m\u001b[37m\u001b[0m \u001b[1m1s\u001b[0m 9ms/step - accuracy: 0.9555 - loss: 0.1204 - val_accuracy: 0.9498 - val_loss: 0.1426\n",
      "Epoch 203/300\n",
      "\u001b[1m60/60\u001b[0m \u001b[32m━━━━━━━━━━━━━━━━━━━━\u001b[0m\u001b[37m\u001b[0m \u001b[1m1s\u001b[0m 9ms/step - accuracy: 0.9537 - loss: 0.1179 - val_accuracy: 0.9525 - val_loss: 0.1345\n",
      "Epoch 204/300\n",
      "\u001b[1m60/60\u001b[0m \u001b[32m━━━━━━━━━━━━━━━━━━━━\u001b[0m\u001b[37m\u001b[0m \u001b[1m1s\u001b[0m 10ms/step - accuracy: 0.9511 - loss: 0.1259 - val_accuracy: 0.9446 - val_loss: 0.1538\n",
      "Epoch 205/300\n",
      "\u001b[1m60/60\u001b[0m \u001b[32m━━━━━━━━━━━━━━━━━━━━\u001b[0m\u001b[37m\u001b[0m \u001b[1m1s\u001b[0m 9ms/step - accuracy: 0.9516 - loss: 0.1236 - val_accuracy: 0.9551 - val_loss: 0.1268\n",
      "Epoch 206/300\n",
      "\u001b[1m60/60\u001b[0m \u001b[32m━━━━━━━━━━━━━━━━━━━━\u001b[0m\u001b[37m\u001b[0m \u001b[1m1s\u001b[0m 10ms/step - accuracy: 0.9523 - loss: 0.1214 - val_accuracy: 0.9509 - val_loss: 0.1346\n",
      "Epoch 207/300\n",
      "\u001b[1m60/60\u001b[0m \u001b[32m━━━━━━━━━━━━━━━━━━━━\u001b[0m\u001b[37m\u001b[0m \u001b[1m1s\u001b[0m 9ms/step - accuracy: 0.9587 - loss: 0.1130 - val_accuracy: 0.9298 - val_loss: 0.1810\n",
      "Epoch 208/300\n",
      "\u001b[1m60/60\u001b[0m \u001b[32m━━━━━━━━━━━━━━━━━━━━\u001b[0m\u001b[37m\u001b[0m \u001b[1m1s\u001b[0m 9ms/step - accuracy: 0.9552 - loss: 0.1215 - val_accuracy: 0.9351 - val_loss: 0.1721\n",
      "Epoch 209/300\n",
      "\u001b[1m60/60\u001b[0m \u001b[32m━━━━━━━━━━━━━━━━━━━━\u001b[0m\u001b[37m\u001b[0m \u001b[1m1s\u001b[0m 9ms/step - accuracy: 0.9559 - loss: 0.1192 - val_accuracy: 0.9361 - val_loss: 0.1626\n",
      "Epoch 210/300\n",
      "\u001b[1m60/60\u001b[0m \u001b[32m━━━━━━━━━━━━━━━━━━━━\u001b[0m\u001b[37m\u001b[0m \u001b[1m1s\u001b[0m 10ms/step - accuracy: 0.9546 - loss: 0.1193 - val_accuracy: 0.9277 - val_loss: 0.1868\n",
      "Epoch 211/300\n",
      "\u001b[1m60/60\u001b[0m \u001b[32m━━━━━━━━━━━━━━━━━━━━\u001b[0m\u001b[37m\u001b[0m \u001b[1m1s\u001b[0m 9ms/step - accuracy: 0.9490 - loss: 0.1339 - val_accuracy: 0.9541 - val_loss: 0.1342\n",
      "Epoch 212/300\n",
      "\u001b[1m60/60\u001b[0m \u001b[32m━━━━━━━━━━━━━━━━━━━━\u001b[0m\u001b[37m\u001b[0m \u001b[1m1s\u001b[0m 9ms/step - accuracy: 0.9546 - loss: 0.1186 - val_accuracy: 0.9435 - val_loss: 0.1535\n",
      "Epoch 213/300\n",
      "\u001b[1m60/60\u001b[0m \u001b[32m━━━━━━━━━━━━━━━━━━━━\u001b[0m\u001b[37m\u001b[0m \u001b[1m1s\u001b[0m 10ms/step - accuracy: 0.9529 - loss: 0.1266 - val_accuracy: 0.9456 - val_loss: 0.1472\n",
      "Epoch 214/300\n",
      "\u001b[1m60/60\u001b[0m \u001b[32m━━━━━━━━━━━━━━━━━━━━\u001b[0m\u001b[37m\u001b[0m \u001b[1m1s\u001b[0m 10ms/step - accuracy: 0.9610 - loss: 0.1091 - val_accuracy: 0.9556 - val_loss: 0.1249\n",
      "Epoch 215/300\n",
      "\u001b[1m60/60\u001b[0m \u001b[32m━━━━━━━━━━━━━━━━━━━━\u001b[0m\u001b[37m\u001b[0m \u001b[1m1s\u001b[0m 9ms/step - accuracy: 0.9545 - loss: 0.1187 - val_accuracy: 0.9472 - val_loss: 0.1479\n",
      "Epoch 216/300\n",
      "\u001b[1m60/60\u001b[0m \u001b[32m━━━━━━━━━━━━━━━━━━━━\u001b[0m\u001b[37m\u001b[0m \u001b[1m1s\u001b[0m 9ms/step - accuracy: 0.9541 - loss: 0.1228 - val_accuracy: 0.9366 - val_loss: 0.1722\n",
      "Epoch 217/300\n",
      "\u001b[1m60/60\u001b[0m \u001b[32m━━━━━━━━━━━━━━━━━━━━\u001b[0m\u001b[37m\u001b[0m \u001b[1m1s\u001b[0m 10ms/step - accuracy: 0.9584 - loss: 0.1074 - val_accuracy: 0.9488 - val_loss: 0.1347\n",
      "Epoch 218/300\n",
      "\u001b[1m60/60\u001b[0m \u001b[32m━━━━━━━━━━━━━━━━━━━━\u001b[0m\u001b[37m\u001b[0m \u001b[1m1s\u001b[0m 10ms/step - accuracy: 0.9560 - loss: 0.1131 - val_accuracy: 0.9329 - val_loss: 0.1722\n",
      "Epoch 219/300\n",
      "\u001b[1m60/60\u001b[0m \u001b[32m━━━━━━━━━━━━━━━━━━━━\u001b[0m\u001b[37m\u001b[0m \u001b[1m1s\u001b[0m 9ms/step - accuracy: 0.9512 - loss: 0.1251 - val_accuracy: 0.9541 - val_loss: 0.1291\n",
      "Epoch 220/300\n",
      "\u001b[1m60/60\u001b[0m \u001b[32m━━━━━━━━━━━━━━━━━━━━\u001b[0m\u001b[37m\u001b[0m \u001b[1m1s\u001b[0m 10ms/step - accuracy: 0.9576 - loss: 0.1136 - val_accuracy: 0.9229 - val_loss: 0.1909\n",
      "Epoch 221/300\n",
      "\u001b[1m60/60\u001b[0m \u001b[32m━━━━━━━━━━━━━━━━━━━━\u001b[0m\u001b[37m\u001b[0m \u001b[1m1s\u001b[0m 9ms/step - accuracy: 0.9525 - loss: 0.1160 - val_accuracy: 0.9520 - val_loss: 0.1363\n",
      "Epoch 222/300\n",
      "\u001b[1m60/60\u001b[0m \u001b[32m━━━━━━━━━━━━━━━━━━━━\u001b[0m\u001b[37m\u001b[0m \u001b[1m1s\u001b[0m 10ms/step - accuracy: 0.9548 - loss: 0.1141 - val_accuracy: 0.9551 - val_loss: 0.1281\n",
      "Epoch 223/300\n",
      "\u001b[1m60/60\u001b[0m \u001b[32m━━━━━━━━━━━━━━━━━━━━\u001b[0m\u001b[37m\u001b[0m \u001b[1m1s\u001b[0m 10ms/step - accuracy: 0.9610 - loss: 0.1041 - val_accuracy: 0.9245 - val_loss: 0.2046\n",
      "Epoch 224/300\n",
      "\u001b[1m60/60\u001b[0m \u001b[32m━━━━━━━━━━━━━━━━━━━━\u001b[0m\u001b[37m\u001b[0m \u001b[1m1s\u001b[0m 11ms/step - accuracy: 0.9533 - loss: 0.1197 - val_accuracy: 0.9488 - val_loss: 0.1419\n",
      "Epoch 225/300\n",
      "\u001b[1m60/60\u001b[0m \u001b[32m━━━━━━━━━━━━━━━━━━━━\u001b[0m\u001b[37m\u001b[0m \u001b[1m1s\u001b[0m 10ms/step - accuracy: 0.9533 - loss: 0.1176 - val_accuracy: 0.9461 - val_loss: 0.1519\n",
      "Epoch 226/300\n",
      "\u001b[1m60/60\u001b[0m \u001b[32m━━━━━━━━━━━━━━━━━━━━\u001b[0m\u001b[37m\u001b[0m \u001b[1m1s\u001b[0m 9ms/step - accuracy: 0.9526 - loss: 0.1238 - val_accuracy: 0.9498 - val_loss: 0.1376\n",
      "Epoch 227/300\n",
      "\u001b[1m60/60\u001b[0m \u001b[32m━━━━━━━━━━━━━━━━━━━━\u001b[0m\u001b[37m\u001b[0m \u001b[1m1s\u001b[0m 10ms/step - accuracy: 0.9537 - loss: 0.1157 - val_accuracy: 0.9477 - val_loss: 0.1417\n",
      "Epoch 228/300\n",
      "\u001b[1m60/60\u001b[0m \u001b[32m━━━━━━━━━━━━━━━━━━━━\u001b[0m\u001b[37m\u001b[0m \u001b[1m1s\u001b[0m 10ms/step - accuracy: 0.9601 - loss: 0.1090 - val_accuracy: 0.9556 - val_loss: 0.1289\n",
      "Epoch 229/300\n",
      "\u001b[1m60/60\u001b[0m \u001b[32m━━━━━━━━━━━━━━━━━━━━\u001b[0m\u001b[37m\u001b[0m \u001b[1m1s\u001b[0m 9ms/step - accuracy: 0.9530 - loss: 0.1184 - val_accuracy: 0.9393 - val_loss: 0.1515\n",
      "Epoch 230/300\n",
      "\u001b[1m60/60\u001b[0m \u001b[32m━━━━━━━━━━━━━━━━━━━━\u001b[0m\u001b[37m\u001b[0m \u001b[1m1s\u001b[0m 11ms/step - accuracy: 0.9586 - loss: 0.1124 - val_accuracy: 0.9277 - val_loss: 0.1771\n",
      "Epoch 231/300\n",
      "\u001b[1m60/60\u001b[0m \u001b[32m━━━━━━━━━━━━━━━━━━━━\u001b[0m\u001b[37m\u001b[0m \u001b[1m1s\u001b[0m 10ms/step - accuracy: 0.9573 - loss: 0.1140 - val_accuracy: 0.9556 - val_loss: 0.1295\n",
      "Epoch 232/300\n",
      "\u001b[1m60/60\u001b[0m \u001b[32m━━━━━━━━━━━━━━━━━━━━\u001b[0m\u001b[37m\u001b[0m \u001b[1m1s\u001b[0m 10ms/step - accuracy: 0.9581 - loss: 0.1133 - val_accuracy: 0.9604 - val_loss: 0.1171\n",
      "Epoch 233/300\n",
      "\u001b[1m60/60\u001b[0m \u001b[32m━━━━━━━━━━━━━━━━━━━━\u001b[0m\u001b[37m\u001b[0m \u001b[1m1s\u001b[0m 9ms/step - accuracy: 0.9542 - loss: 0.1212 - val_accuracy: 0.9430 - val_loss: 0.1475\n",
      "Epoch 234/300\n",
      "\u001b[1m60/60\u001b[0m \u001b[32m━━━━━━━━━━━━━━━━━━━━\u001b[0m\u001b[37m\u001b[0m \u001b[1m1s\u001b[0m 9ms/step - accuracy: 0.9561 - loss: 0.1171 - val_accuracy: 0.9498 - val_loss: 0.1413\n",
      "Epoch 235/300\n",
      "\u001b[1m60/60\u001b[0m \u001b[32m━━━━━━━━━━━━━━━━━━━━\u001b[0m\u001b[37m\u001b[0m \u001b[1m1s\u001b[0m 9ms/step - accuracy: 0.9571 - loss: 0.1096 - val_accuracy: 0.9409 - val_loss: 0.1583\n",
      "Epoch 236/300\n",
      "\u001b[1m60/60\u001b[0m \u001b[32m━━━━━━━━━━━━━━━━━━━━\u001b[0m\u001b[37m\u001b[0m \u001b[1m1s\u001b[0m 9ms/step - accuracy: 0.9561 - loss: 0.1161 - val_accuracy: 0.9562 - val_loss: 0.1271\n",
      "Epoch 237/300\n",
      "\u001b[1m60/60\u001b[0m \u001b[32m━━━━━━━━━━━━━━━━━━━━\u001b[0m\u001b[37m\u001b[0m \u001b[1m1s\u001b[0m 10ms/step - accuracy: 0.9617 - loss: 0.1037 - val_accuracy: 0.9551 - val_loss: 0.1273\n",
      "Epoch 238/300\n",
      "\u001b[1m60/60\u001b[0m \u001b[32m━━━━━━━━━━━━━━━━━━━━\u001b[0m\u001b[37m\u001b[0m \u001b[1m1s\u001b[0m 10ms/step - accuracy: 0.9592 - loss: 0.1105 - val_accuracy: 0.9335 - val_loss: 0.1681\n",
      "Epoch 239/300\n",
      "\u001b[1m60/60\u001b[0m \u001b[32m━━━━━━━━━━━━━━━━━━━━\u001b[0m\u001b[37m\u001b[0m \u001b[1m1s\u001b[0m 10ms/step - accuracy: 0.9575 - loss: 0.1123 - val_accuracy: 0.9562 - val_loss: 0.1281\n",
      "Epoch 240/300\n",
      "\u001b[1m60/60\u001b[0m \u001b[32m━━━━━━━━━━━━━━━━━━━━\u001b[0m\u001b[37m\u001b[0m \u001b[1m1s\u001b[0m 9ms/step - accuracy: 0.9566 - loss: 0.1138 - val_accuracy: 0.9556 - val_loss: 0.1283\n",
      "Epoch 241/300\n",
      "\u001b[1m60/60\u001b[0m \u001b[32m━━━━━━━━━━━━━━━━━━━━\u001b[0m\u001b[37m\u001b[0m \u001b[1m1s\u001b[0m 9ms/step - accuracy: 0.9573 - loss: 0.1107 - val_accuracy: 0.9504 - val_loss: 0.1385\n",
      "Epoch 242/300\n",
      "\u001b[1m60/60\u001b[0m \u001b[32m━━━━━━━━━━━━━━━━━━━━\u001b[0m\u001b[37m\u001b[0m \u001b[1m1s\u001b[0m 9ms/step - accuracy: 0.9606 - loss: 0.1128 - val_accuracy: 0.9461 - val_loss: 0.1451\n",
      "Epoch 243/300\n",
      "\u001b[1m60/60\u001b[0m \u001b[32m━━━━━━━━━━━━━━━━━━━━\u001b[0m\u001b[37m\u001b[0m \u001b[1m1s\u001b[0m 10ms/step - accuracy: 0.9560 - loss: 0.1156 - val_accuracy: 0.9588 - val_loss: 0.1242\n",
      "Epoch 244/300\n",
      "\u001b[1m60/60\u001b[0m \u001b[32m━━━━━━━━━━━━━━━━━━━━\u001b[0m\u001b[37m\u001b[0m \u001b[1m1s\u001b[0m 9ms/step - accuracy: 0.9551 - loss: 0.1203 - val_accuracy: 0.9520 - val_loss: 0.1347\n",
      "Epoch 245/300\n",
      "\u001b[1m60/60\u001b[0m \u001b[32m━━━━━━━━━━━━━━━━━━━━\u001b[0m\u001b[37m\u001b[0m \u001b[1m1s\u001b[0m 9ms/step - accuracy: 0.9598 - loss: 0.1054 - val_accuracy: 0.9578 - val_loss: 0.1185\n",
      "Epoch 246/300\n",
      "\u001b[1m60/60\u001b[0m \u001b[32m━━━━━━━━━━━━━━━━━━━━\u001b[0m\u001b[37m\u001b[0m \u001b[1m1s\u001b[0m 9ms/step - accuracy: 0.9542 - loss: 0.1213 - val_accuracy: 0.9551 - val_loss: 0.1315\n",
      "Epoch 247/300\n",
      "\u001b[1m60/60\u001b[0m \u001b[32m━━━━━━━━━━━━━━━━━━━━\u001b[0m\u001b[37m\u001b[0m \u001b[1m1s\u001b[0m 10ms/step - accuracy: 0.9601 - loss: 0.1108 - val_accuracy: 0.9556 - val_loss: 0.1261\n",
      "Epoch 248/300\n",
      "\u001b[1m60/60\u001b[0m \u001b[32m━━━━━━━━━━━━━━━━━━━━\u001b[0m\u001b[37m\u001b[0m \u001b[1m1s\u001b[0m 10ms/step - accuracy: 0.9610 - loss: 0.1085 - val_accuracy: 0.9562 - val_loss: 0.1312\n",
      "Epoch 249/300\n",
      "\u001b[1m60/60\u001b[0m \u001b[32m━━━━━━━━━━━━━━━━━━━━\u001b[0m\u001b[37m\u001b[0m \u001b[1m1s\u001b[0m 10ms/step - accuracy: 0.9592 - loss: 0.1106 - val_accuracy: 0.9509 - val_loss: 0.1378\n",
      "Epoch 250/300\n",
      "\u001b[1m60/60\u001b[0m \u001b[32m━━━━━━━━━━━━━━━━━━━━\u001b[0m\u001b[37m\u001b[0m \u001b[1m1s\u001b[0m 9ms/step - accuracy: 0.9531 - loss: 0.1220 - val_accuracy: 0.9604 - val_loss: 0.1156\n",
      "Epoch 251/300\n",
      "\u001b[1m60/60\u001b[0m \u001b[32m━━━━━━━━━━━━━━━━━━━━\u001b[0m\u001b[37m\u001b[0m \u001b[1m1s\u001b[0m 9ms/step - accuracy: 0.9573 - loss: 0.1102 - val_accuracy: 0.9556 - val_loss: 0.1274\n",
      "Epoch 252/300\n",
      "\u001b[1m60/60\u001b[0m \u001b[32m━━━━━━━━━━━━━━━━━━━━\u001b[0m\u001b[37m\u001b[0m \u001b[1m1s\u001b[0m 10ms/step - accuracy: 0.9593 - loss: 0.1076 - val_accuracy: 0.9535 - val_loss: 0.1396\n",
      "Epoch 253/300\n",
      "\u001b[1m60/60\u001b[0m \u001b[32m━━━━━━━━━━━━━━━━━━━━\u001b[0m\u001b[37m\u001b[0m \u001b[1m1s\u001b[0m 12ms/step - accuracy: 0.9595 - loss: 0.1101 - val_accuracy: 0.9578 - val_loss: 0.1226\n",
      "Epoch 254/300\n",
      "\u001b[1m60/60\u001b[0m \u001b[32m━━━━━━━━━━━━━━━━━━━━\u001b[0m\u001b[37m\u001b[0m \u001b[1m1s\u001b[0m 10ms/step - accuracy: 0.9560 - loss: 0.1158 - val_accuracy: 0.9541 - val_loss: 0.1328\n",
      "Epoch 255/300\n",
      "\u001b[1m60/60\u001b[0m \u001b[32m━━━━━━━━━━━━━━━━━━━━\u001b[0m\u001b[37m\u001b[0m \u001b[1m1s\u001b[0m 10ms/step - accuracy: 0.9620 - loss: 0.1090 - val_accuracy: 0.9588 - val_loss: 0.1166\n",
      "Epoch 256/300\n",
      "\u001b[1m60/60\u001b[0m \u001b[32m━━━━━━━━━━━━━━━━━━━━\u001b[0m\u001b[37m\u001b[0m \u001b[1m1s\u001b[0m 10ms/step - accuracy: 0.9588 - loss: 0.1088 - val_accuracy: 0.9372 - val_loss: 0.1589\n",
      "Epoch 257/300\n",
      "\u001b[1m60/60\u001b[0m \u001b[32m━━━━━━━━━━━━━━━━━━━━\u001b[0m\u001b[37m\u001b[0m \u001b[1m1s\u001b[0m 10ms/step - accuracy: 0.9581 - loss: 0.1102 - val_accuracy: 0.9588 - val_loss: 0.1199\n",
      "Epoch 258/300\n",
      "\u001b[1m60/60\u001b[0m \u001b[32m━━━━━━━━━━━━━━━━━━━━\u001b[0m\u001b[37m\u001b[0m \u001b[1m1s\u001b[0m 11ms/step - accuracy: 0.9497 - loss: 0.1235 - val_accuracy: 0.9435 - val_loss: 0.1424\n",
      "Epoch 259/300\n",
      "\u001b[1m60/60\u001b[0m \u001b[32m━━━━━━━━━━━━━━━━━━━━\u001b[0m\u001b[37m\u001b[0m \u001b[1m1s\u001b[0m 11ms/step - accuracy: 0.9588 - loss: 0.1155 - val_accuracy: 0.9556 - val_loss: 0.1272\n",
      "Epoch 260/300\n",
      "\u001b[1m60/60\u001b[0m \u001b[32m━━━━━━━━━━━━━━━━━━━━\u001b[0m\u001b[37m\u001b[0m \u001b[1m1s\u001b[0m 11ms/step - accuracy: 0.9559 - loss: 0.1145 - val_accuracy: 0.9567 - val_loss: 0.1232\n",
      "Epoch 261/300\n",
      "\u001b[1m60/60\u001b[0m \u001b[32m━━━━━━━━━━━━━━━━━━━━\u001b[0m\u001b[37m\u001b[0m \u001b[1m1s\u001b[0m 10ms/step - accuracy: 0.9560 - loss: 0.1141 - val_accuracy: 0.9546 - val_loss: 0.1266\n",
      "Epoch 262/300\n",
      "\u001b[1m60/60\u001b[0m \u001b[32m━━━━━━━━━━━━━━━━━━━━\u001b[0m\u001b[37m\u001b[0m \u001b[1m1s\u001b[0m 11ms/step - accuracy: 0.9611 - loss: 0.1068 - val_accuracy: 0.9599 - val_loss: 0.1174\n",
      "Epoch 263/300\n",
      "\u001b[1m60/60\u001b[0m \u001b[32m━━━━━━━━━━━━━━━━━━━━\u001b[0m\u001b[37m\u001b[0m \u001b[1m1s\u001b[0m 10ms/step - accuracy: 0.9571 - loss: 0.1147 - val_accuracy: 0.9556 - val_loss: 0.1252\n",
      "Epoch 264/300\n",
      "\u001b[1m60/60\u001b[0m \u001b[32m━━━━━━━━━━━━━━━━━━━━\u001b[0m\u001b[37m\u001b[0m \u001b[1m1s\u001b[0m 9ms/step - accuracy: 0.9587 - loss: 0.1089 - val_accuracy: 0.9588 - val_loss: 0.1236\n",
      "Epoch 265/300\n",
      "\u001b[1m60/60\u001b[0m \u001b[32m━━━━━━━━━━━━━━━━━━━━\u001b[0m\u001b[37m\u001b[0m \u001b[1m1s\u001b[0m 9ms/step - accuracy: 0.9592 - loss: 0.1050 - val_accuracy: 0.9403 - val_loss: 0.1568\n",
      "Epoch 266/300\n",
      "\u001b[1m60/60\u001b[0m \u001b[32m━━━━━━━━━━━━━━━━━━━━\u001b[0m\u001b[37m\u001b[0m \u001b[1m1s\u001b[0m 9ms/step - accuracy: 0.9549 - loss: 0.1141 - val_accuracy: 0.9572 - val_loss: 0.1273\n",
      "Epoch 267/300\n",
      "\u001b[1m60/60\u001b[0m \u001b[32m━━━━━━━━━━━━━━━━━━━━\u001b[0m\u001b[37m\u001b[0m \u001b[1m1s\u001b[0m 9ms/step - accuracy: 0.9569 - loss: 0.1130 - val_accuracy: 0.9604 - val_loss: 0.1254\n",
      "Epoch 268/300\n",
      "\u001b[1m60/60\u001b[0m \u001b[32m━━━━━━━━━━━━━━━━━━━━\u001b[0m\u001b[37m\u001b[0m \u001b[1m1s\u001b[0m 10ms/step - accuracy: 0.9575 - loss: 0.1138 - val_accuracy: 0.9314 - val_loss: 0.1782\n",
      "Epoch 269/300\n",
      "\u001b[1m60/60\u001b[0m \u001b[32m━━━━━━━━━━━━━━━━━━━━\u001b[0m\u001b[37m\u001b[0m \u001b[1m1s\u001b[0m 10ms/step - accuracy: 0.9583 - loss: 0.1084 - val_accuracy: 0.9525 - val_loss: 0.1312\n",
      "Epoch 270/300\n",
      "\u001b[1m60/60\u001b[0m \u001b[32m━━━━━━━━━━━━━━━━━━━━\u001b[0m\u001b[37m\u001b[0m \u001b[1m1s\u001b[0m 9ms/step - accuracy: 0.9584 - loss: 0.1104 - val_accuracy: 0.9615 - val_loss: 0.1211\n",
      "Epoch 271/300\n",
      "\u001b[1m60/60\u001b[0m \u001b[32m━━━━━━━━━━━━━━━━━━━━\u001b[0m\u001b[37m\u001b[0m \u001b[1m1s\u001b[0m 10ms/step - accuracy: 0.9578 - loss: 0.1141 - val_accuracy: 0.9609 - val_loss: 0.1189\n",
      "Epoch 272/300\n",
      "\u001b[1m60/60\u001b[0m \u001b[32m━━━━━━━━━━━━━━━━━━━━\u001b[0m\u001b[37m\u001b[0m \u001b[1m1s\u001b[0m 10ms/step - accuracy: 0.9602 - loss: 0.1067 - val_accuracy: 0.9578 - val_loss: 0.1214\n",
      "Epoch 273/300\n",
      "\u001b[1m60/60\u001b[0m \u001b[32m━━━━━━━━━━━━━━━━━━━━\u001b[0m\u001b[37m\u001b[0m \u001b[1m1s\u001b[0m 9ms/step - accuracy: 0.9558 - loss: 0.1199 - val_accuracy: 0.9551 - val_loss: 0.1285\n",
      "Epoch 274/300\n",
      "\u001b[1m60/60\u001b[0m \u001b[32m━━━━━━━━━━━━━━━━━━━━\u001b[0m\u001b[37m\u001b[0m \u001b[1m1s\u001b[0m 9ms/step - accuracy: 0.9562 - loss: 0.1107 - val_accuracy: 0.9588 - val_loss: 0.1224\n",
      "Epoch 275/300\n",
      "\u001b[1m60/60\u001b[0m \u001b[32m━━━━━━━━━━━━━━━━━━━━\u001b[0m\u001b[37m\u001b[0m \u001b[1m1s\u001b[0m 9ms/step - accuracy: 0.9603 - loss: 0.1058 - val_accuracy: 0.9609 - val_loss: 0.1211\n",
      "Epoch 276/300\n",
      "\u001b[1m60/60\u001b[0m \u001b[32m━━━━━━━━━━━━━━━━━━━━\u001b[0m\u001b[37m\u001b[0m \u001b[1m1s\u001b[0m 9ms/step - accuracy: 0.9604 - loss: 0.1078 - val_accuracy: 0.9604 - val_loss: 0.1256\n",
      "Epoch 277/300\n",
      "\u001b[1m60/60\u001b[0m \u001b[32m━━━━━━━━━━━━━━━━━━━━\u001b[0m\u001b[37m\u001b[0m \u001b[1m1s\u001b[0m 9ms/step - accuracy: 0.9540 - loss: 0.1206 - val_accuracy: 0.9535 - val_loss: 0.1341\n",
      "Epoch 278/300\n",
      "\u001b[1m60/60\u001b[0m \u001b[32m━━━━━━━━━━━━━━━━━━━━\u001b[0m\u001b[37m\u001b[0m \u001b[1m1s\u001b[0m 10ms/step - accuracy: 0.9559 - loss: 0.1189 - val_accuracy: 0.9567 - val_loss: 0.1245\n",
      "Epoch 279/300\n",
      "\u001b[1m60/60\u001b[0m \u001b[32m━━━━━━━━━━━━━━━━━━━━\u001b[0m\u001b[37m\u001b[0m \u001b[1m1s\u001b[0m 9ms/step - accuracy: 0.9594 - loss: 0.1063 - val_accuracy: 0.9567 - val_loss: 0.1250\n",
      "Epoch 280/300\n",
      "\u001b[1m60/60\u001b[0m \u001b[32m━━━━━━━━━━━━━━━━━━━━\u001b[0m\u001b[37m\u001b[0m \u001b[1m1s\u001b[0m 9ms/step - accuracy: 0.9607 - loss: 0.1056 - val_accuracy: 0.9340 - val_loss: 0.1726\n",
      "Epoch 281/300\n",
      "\u001b[1m60/60\u001b[0m \u001b[32m━━━━━━━━━━━━━━━━━━━━\u001b[0m\u001b[37m\u001b[0m \u001b[1m1s\u001b[0m 9ms/step - accuracy: 0.9604 - loss: 0.1072 - val_accuracy: 0.9472 - val_loss: 0.1418\n",
      "Epoch 282/300\n",
      "\u001b[1m60/60\u001b[0m \u001b[32m━━━━━━━━━━━━━━━━━━━━\u001b[0m\u001b[37m\u001b[0m \u001b[1m1s\u001b[0m 9ms/step - accuracy: 0.9551 - loss: 0.1108 - val_accuracy: 0.9435 - val_loss: 0.1599\n",
      "Epoch 283/300\n",
      "\u001b[1m60/60\u001b[0m \u001b[32m━━━━━━━━━━━━━━━━━━━━\u001b[0m\u001b[37m\u001b[0m \u001b[1m1s\u001b[0m 9ms/step - accuracy: 0.9586 - loss: 0.1075 - val_accuracy: 0.9604 - val_loss: 0.1200\n",
      "Epoch 284/300\n",
      "\u001b[1m60/60\u001b[0m \u001b[32m━━━━━━━━━━━━━━━━━━━━\u001b[0m\u001b[37m\u001b[0m \u001b[1m1s\u001b[0m 9ms/step - accuracy: 0.9586 - loss: 0.1111 - val_accuracy: 0.9493 - val_loss: 0.1400\n",
      "Epoch 285/300\n",
      "\u001b[1m60/60\u001b[0m \u001b[32m━━━━━━━━━━━━━━━━━━━━\u001b[0m\u001b[37m\u001b[0m \u001b[1m1s\u001b[0m 10ms/step - accuracy: 0.9617 - loss: 0.1020 - val_accuracy: 0.9578 - val_loss: 0.1230\n",
      "Epoch 286/300\n",
      "\u001b[1m60/60\u001b[0m \u001b[32m━━━━━━━━━━━━━━━━━━━━\u001b[0m\u001b[37m\u001b[0m \u001b[1m1s\u001b[0m 10ms/step - accuracy: 0.9628 - loss: 0.0998 - val_accuracy: 0.9578 - val_loss: 0.1193\n",
      "Epoch 287/300\n",
      "\u001b[1m60/60\u001b[0m \u001b[32m━━━━━━━━━━━━━━━━━━━━\u001b[0m\u001b[37m\u001b[0m \u001b[1m1s\u001b[0m 10ms/step - accuracy: 0.9564 - loss: 0.1115 - val_accuracy: 0.9578 - val_loss: 0.1248\n",
      "Epoch 288/300\n",
      "\u001b[1m60/60\u001b[0m \u001b[32m━━━━━━━━━━━━━━━━━━━━\u001b[0m\u001b[37m\u001b[0m \u001b[1m1s\u001b[0m 10ms/step - accuracy: 0.9570 - loss: 0.1086 - val_accuracy: 0.9498 - val_loss: 0.1444\n",
      "Epoch 289/300\n",
      "\u001b[1m60/60\u001b[0m \u001b[32m━━━━━━━━━━━━━━━━━━━━\u001b[0m\u001b[37m\u001b[0m \u001b[1m1s\u001b[0m 9ms/step - accuracy: 0.9584 - loss: 0.1099 - val_accuracy: 0.9620 - val_loss: 0.1143\n",
      "Epoch 290/300\n",
      "\u001b[1m60/60\u001b[0m \u001b[32m━━━━━━━━━━━━━━━━━━━━\u001b[0m\u001b[37m\u001b[0m \u001b[1m1s\u001b[0m 9ms/step - accuracy: 0.9602 - loss: 0.1046 - val_accuracy: 0.9578 - val_loss: 0.1185\n",
      "Epoch 291/300\n",
      "\u001b[1m60/60\u001b[0m \u001b[32m━━━━━━━━━━━━━━━━━━━━\u001b[0m\u001b[37m\u001b[0m \u001b[1m1s\u001b[0m 10ms/step - accuracy: 0.9577 - loss: 0.1089 - val_accuracy: 0.9599 - val_loss: 0.1224\n",
      "Epoch 292/300\n",
      "\u001b[1m60/60\u001b[0m \u001b[32m━━━━━━━━━━━━━━━━━━━━\u001b[0m\u001b[37m\u001b[0m \u001b[1m1s\u001b[0m 9ms/step - accuracy: 0.9599 - loss: 0.1091 - val_accuracy: 0.9530 - val_loss: 0.1379\n",
      "Epoch 293/300\n",
      "\u001b[1m60/60\u001b[0m \u001b[32m━━━━━━━━━━━━━━━━━━━━\u001b[0m\u001b[37m\u001b[0m \u001b[1m1s\u001b[0m 9ms/step - accuracy: 0.9576 - loss: 0.1113 - val_accuracy: 0.9556 - val_loss: 0.1307\n",
      "Epoch 294/300\n",
      "\u001b[1m60/60\u001b[0m \u001b[32m━━━━━━━━━━━━━━━━━━━━\u001b[0m\u001b[37m\u001b[0m \u001b[1m1s\u001b[0m 10ms/step - accuracy: 0.9579 - loss: 0.1099 - val_accuracy: 0.9520 - val_loss: 0.1345\n",
      "Epoch 295/300\n",
      "\u001b[1m60/60\u001b[0m \u001b[32m━━━━━━━━━━━━━━━━━━━━\u001b[0m\u001b[37m\u001b[0m \u001b[1m1s\u001b[0m 11ms/step - accuracy: 0.9596 - loss: 0.1073 - val_accuracy: 0.9578 - val_loss: 0.1287\n",
      "Epoch 296/300\n",
      "\u001b[1m60/60\u001b[0m \u001b[32m━━━━━━━━━━━━━━━━━━━━\u001b[0m\u001b[37m\u001b[0m \u001b[1m1s\u001b[0m 10ms/step - accuracy: 0.9612 - loss: 0.1002 - val_accuracy: 0.9599 - val_loss: 0.1203\n",
      "Epoch 297/300\n",
      "\u001b[1m60/60\u001b[0m \u001b[32m━━━━━━━━━━━━━━━━━━━━\u001b[0m\u001b[37m\u001b[0m \u001b[1m1s\u001b[0m 9ms/step - accuracy: 0.9602 - loss: 0.1082 - val_accuracy: 0.9593 - val_loss: 0.1168\n",
      "Epoch 298/300\n",
      "\u001b[1m60/60\u001b[0m \u001b[32m━━━━━━━━━━━━━━━━━━━━\u001b[0m\u001b[37m\u001b[0m \u001b[1m1s\u001b[0m 9ms/step - accuracy: 0.9596 - loss: 0.1067 - val_accuracy: 0.9599 - val_loss: 0.1226\n",
      "Epoch 299/300\n",
      "\u001b[1m60/60\u001b[0m \u001b[32m━━━━━━━━━━━━━━━━━━━━\u001b[0m\u001b[37m\u001b[0m \u001b[1m1s\u001b[0m 9ms/step - accuracy: 0.9554 - loss: 0.1109 - val_accuracy: 0.9615 - val_loss: 0.1145\n",
      "Epoch 300/300\n",
      "\u001b[1m60/60\u001b[0m \u001b[32m━━━━━━━━━━━━━━━━━━━━\u001b[0m\u001b[37m\u001b[0m \u001b[1m1s\u001b[0m 9ms/step - accuracy: 0.9587 - loss: 0.1047 - val_accuracy: 0.9556 - val_loss: 0.1343\n"
     ]
    }
   ],
   "source": [
    "#treniranje modela\n",
    "history=model.fit(X_train,y_train,\n",
    "                 batch_size=128,\n",
    "                 epochs=300,\n",
    "                 validation_data=(X_test,y_test))"
   ]
  },
  {
   "cell_type": "code",
   "execution_count": 18,
   "id": "3e63f26e",
   "metadata": {
    "execution": {
     "iopub.execute_input": "2024-11-18T16:20:59.585527Z",
     "iopub.status.busy": "2024-11-18T16:20:59.585030Z",
     "iopub.status.idle": "2024-11-18T16:21:00.068934Z",
     "shell.execute_reply": "2024-11-18T16:21:00.067495Z"
    },
    "papermill": {
     "duration": 0.894743,
     "end_time": "2024-11-18T16:21:00.071778",
     "exception": false,
     "start_time": "2024-11-18T16:20:59.177035",
     "status": "completed"
    },
    "tags": []
   },
   "outputs": [
    {
     "data": {
      "image/png": "[encoded data removed]",
      "text/plain": [
       "<Figure size 1000x500 with 1 Axes>"
      ]
     },
     "metadata": {},
     "output_type": "display_data"
    }
   ],
   "source": [
    "#prikaz training and validation acc\n",
    "\n",
    "train_acc=history.history['accuracy']\n",
    "val_acc=history.history['val_accuracy']\n",
    "\n",
    "\n",
    "plt.figure(figsize=(10, 5))\n",
    "\n",
    "plt.plot(train_acc, label='Training Accuracy')\n",
    "plt.plot(val_acc, label='Validation Accuracy')\n",
    "plt.xlabel('Epochs')\n",
    "plt.ylabel('Accuracy')\n",
    "plt.title('Training and Validation Accuracy')\n",
    "\n",
    "plt.legend()\n",
    "plt.show()"
   ]
  },
  {
   "cell_type": "code",
   "execution_count": 19,
   "id": "c87ca52b",
   "metadata": {
    "execution": {
     "iopub.execute_input": "2024-11-18T16:21:00.802271Z",
     "iopub.status.busy": "2024-11-18T16:21:00.801774Z",
     "iopub.status.idle": "2024-11-18T16:21:01.288596Z",
     "shell.execute_reply": "2024-11-18T16:21:01.287267Z"
    },
    "papermill": {
     "duration": 0.852747,
     "end_time": "2024-11-18T16:21:01.291645",
     "exception": false,
     "start_time": "2024-11-18T16:21:00.438898",
     "status": "completed"
    },
    "tags": []
   },
   "outputs": [
    {
     "data": {
      "image/png": "[encoded data removed]",
      "text/plain": [
       "<Figure size 1000x500 with 1 Axes>"
      ]
     },
     "metadata": {},
     "output_type": "display_data"
    }
   ],
   "source": [
    "#prikaz training and validation loss\n",
    "tr_loss=history.history['loss']\n",
    "val_loss=history.history['val_loss']\n",
    "\n",
    "plt.figure(figsize=(10, 5))\n",
    "\n",
    "\n",
    "plt.plot(tr_loss, label='Training Loss')\n",
    "plt.plot(val_loss, label='Validation Loss')\n",
    "plt.xlabel('Epochs')\n",
    "plt.ylabel('Loss')\n",
    "plt.title('Training and Validation Loss')\n",
    "\n",
    "\n",
    "plt.legend()\n",
    "plt.show()"
   ]
  },
  {
   "cell_type": "code",
   "execution_count": 20,
   "id": "9bcd248d",
   "metadata": {
    "execution": {
     "iopub.execute_input": "2024-11-18T16:21:02.045285Z",
     "iopub.status.busy": "2024-11-18T16:21:02.044019Z",
     "iopub.status.idle": "2024-11-18T16:21:02.302945Z",
     "shell.execute_reply": "2024-11-18T16:21:02.301362Z"
    },
    "papermill": {
     "duration": 0.636397,
     "end_time": "2024-11-18T16:21:02.306233",
     "exception": false,
     "start_time": "2024-11-18T16:21:01.669836",
     "status": "completed"
    },
    "tags": []
   },
   "outputs": [
    {
     "name": "stdout",
     "output_type": "stream",
     "text": [
      "\u001b[1m60/60\u001b[0m \u001b[32m━━━━━━━━━━━━━━━━━━━━\u001b[0m\u001b[37m\u001b[0m \u001b[1m0s\u001b[0m 3ms/step - accuracy: 0.9535 - loss: 0.1431\n",
      "Test accuracy: 0.9556494355201721\n",
      "Test loss: 0.13430365920066833\n"
     ]
    }
   ],
   "source": [
    "#evaluacija modela na testnim podacima\n",
    "test_loss, test_accuracy = model.evaluate(X_test, y_test)\n",
    "print(f\"Test accuracy: {test_accuracy}\")\n",
    "print(f\"Test loss: {test_loss}\")"
   ]
  },
  {
   "cell_type": "code",
   "execution_count": null,
   "id": "aa42ad83",
   "metadata": {
    "papermill": {
     "duration": 0.455008,
     "end_time": "2024-11-18T16:21:03.139150",
     "exception": false,
     "start_time": "2024-11-18T16:21:02.684142",
     "status": "completed"
    },
    "tags": []
   },
   "outputs": [],
   "source": []
  }
 ],
 "metadata": {
  "kaggle": {
   "accelerator": "none",
   "dataSources": [
    {
     "datasetId": 2343381,
     "sourceId": 3949526,
     "sourceType": "datasetVersion"
    }
   ],
   "dockerImageVersionId": 30786,
   "isGpuEnabled": false,
   "isInternetEnabled": false,
   "language": "python",
   "sourceType": "notebook"
  },
  "kernelspec": {
   "display_name": "Python 3",
   "language": "python",
   "name": "python3"
  },
  "language_info": {
   "codemirror_mode": {
    "name": "ipython",
    "version": 3
   },
   "file_extension": ".py",
   "mimetype": "text/x-python",
   "name": "python",
   "nbconvert_exporter": "python",
   "pygments_lexer": "ipython3",
   "version": "3.10.14"
  },
  "papermill": {
   "default_parameters": {},
   "duration": 225.476966,
   "end_time": "2024-11-18T16:21:05.547560",
   "environment_variables": {},
   "exception": null,
   "input_path": "__notebook__.ipynb",
   "output_path": "__notebook__.ipynb",
   "parameters": {},
   "start_time": "2024-11-18T16:17:20.070594",
   "version": "2.6.0"
  }
 },
 "nbformat": 4,
 "nbformat_minor": 5
}
